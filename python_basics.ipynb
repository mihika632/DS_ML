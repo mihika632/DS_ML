{
 "cells": [
  {
   "cell_type": "code",
   "execution_count": 1,
   "id": "cb40a66a",
   "metadata": {},
   "outputs": [
    {
     "name": "stdout",
     "output_type": "stream",
     "text": [
      "hello \n"
     ]
    }
   ],
   "source": [
    "print('hello ')"
   ]
  },
  {
   "cell_type": "code",
   "execution_count": 2,
   "id": "87198cce",
   "metadata": {},
   "outputs": [],
   "source": [
    "num = 78"
   ]
  },
  {
   "cell_type": "code",
   "execution_count": 3,
   "id": "869c39be",
   "metadata": {},
   "outputs": [
    {
     "data": {
      "text/plain": [
       "int"
      ]
     },
     "execution_count": 3,
     "metadata": {},
     "output_type": "execute_result"
    }
   ],
   "source": [
    "type(num)"
   ]
  },
  {
   "cell_type": "code",
   "execution_count": 4,
   "id": "7c96be3c",
   "metadata": {},
   "outputs": [],
   "source": [
    "x = \"fruits\""
   ]
  },
  {
   "cell_type": "code",
   "execution_count": 5,
   "id": "f5369a31",
   "metadata": {},
   "outputs": [
    {
     "data": {
      "text/plain": [
       "str"
      ]
     },
     "execution_count": 5,
     "metadata": {},
     "output_type": "execute_result"
    }
   ],
   "source": [
    "type(x)"
   ]
  },
  {
   "cell_type": "code",
   "execution_count": 6,
   "id": "33038581",
   "metadata": {},
   "outputs": [],
   "source": [
    "x =1234567.45678909876543"
   ]
  },
  {
   "cell_type": "code",
   "execution_count": 7,
   "id": "30372b8f",
   "metadata": {},
   "outputs": [
    {
     "data": {
      "text/plain": [
       "float"
      ]
     },
     "execution_count": 7,
     "metadata": {},
     "output_type": "execute_result"
    }
   ],
   "source": [
    "type(x)"
   ]
  },
  {
   "cell_type": "code",
   "execution_count": 10,
   "id": "a0f146f9",
   "metadata": {},
   "outputs": [],
   "source": [
    "x1 = 123456789098765432"
   ]
  },
  {
   "cell_type": "code",
   "execution_count": 9,
   "id": "b90fb4ba",
   "metadata": {},
   "outputs": [
    {
     "data": {
      "text/plain": [
       "float"
      ]
     },
     "execution_count": 9,
     "metadata": {},
     "output_type": "execute_result"
    }
   ],
   "source": [
    "type(x1)"
   ]
  },
  {
   "cell_type": "code",
   "execution_count": 11,
   "id": "a0736555",
   "metadata": {},
   "outputs": [
    {
     "data": {
      "text/plain": [
       "123456789098765432"
      ]
     },
     "execution_count": 11,
     "metadata": {},
     "output_type": "execute_result"
    }
   ],
   "source": [
    "x1"
   ]
  },
  {
   "cell_type": "code",
   "execution_count": 12,
   "id": "2fdd22a1",
   "metadata": {},
   "outputs": [
    {
     "name": "stdout",
     "output_type": "stream",
     "text": [
      "123456789098765432\n"
     ]
    }
   ],
   "source": [
    "print(x1)"
   ]
  },
  {
   "cell_type": "code",
   "execution_count": 27,
   "id": "045c59f3",
   "metadata": {},
   "outputs": [],
   "source": [
    "x1 = 10e89"
   ]
  },
  {
   "cell_type": "code",
   "execution_count": 28,
   "id": "46fb51d2",
   "metadata": {},
   "outputs": [
    {
     "data": {
      "text/plain": [
       "1e+90"
      ]
     },
     "execution_count": 28,
     "metadata": {},
     "output_type": "execute_result"
    }
   ],
   "source": [
    "x1"
   ]
  },
  {
   "cell_type": "code",
   "execution_count": 25,
   "id": "6ebc93d8",
   "metadata": {},
   "outputs": [],
   "source": [
    "x1 = 9823456789**41"
   ]
  },
  {
   "cell_type": "code",
   "execution_count": 26,
   "id": "2fd827f5",
   "metadata": {},
   "outputs": [
    {
     "data": {
      "text/plain": [
       "48176794956660910892475764173933405170470563887556287733126057412805395879752629468220691518026589364614455445674240636364564126607950228600505222675505648563463174391690066420245432029640323165841265338781564146644179374481092811801637965992743985022397007933565301911822091501473913131963989448168334135638017353267028473161256596042870769158731892752447806733131196376258149677455325555598839688329723606389"
      ]
     },
     "execution_count": 26,
     "metadata": {},
     "output_type": "execute_result"
    }
   ],
   "source": [
    "x1"
   ]
  },
  {
   "cell_type": "code",
   "execution_count": 29,
   "id": "6b08cc9d",
   "metadata": {},
   "outputs": [],
   "source": [
    "x1 = 10e9"
   ]
  },
  {
   "cell_type": "code",
   "execution_count": 31,
   "id": "1950c42c",
   "metadata": {},
   "outputs": [
    {
     "data": {
      "text/plain": [
       "10000000000.0"
      ]
     },
     "execution_count": 31,
     "metadata": {},
     "output_type": "execute_result"
    }
   ],
   "source": [
    "x1"
   ]
  },
  {
   "cell_type": "code",
   "execution_count": null,
   "id": "f753c6d4",
   "metadata": {},
   "outputs": [],
   "source": []
  },
  {
   "cell_type": "code",
   "execution_count": 33,
   "id": "fcdf7c06",
   "metadata": {},
   "outputs": [],
   "source": [
    "# ignore this like everyone ignores manaswwi"
   ]
  },
  {
   "cell_type": "code",
   "execution_count": null,
   "id": "0b9b0903",
   "metadata": {},
   "outputs": [],
   "source": []
  },
  {
   "cell_type": "markdown",
   "id": "573a3372",
   "metadata": {},
   "source": [
    "# print"
   ]
  },
  {
   "cell_type": "markdown",
   "id": "0eade76f",
   "metadata": {},
   "source": []
  },
  {
   "cell_type": "markdown",
   "id": "703bbad2",
   "metadata": {},
   "source": [
    "# A DRAGON WITHOUT IT'S RIDER IS A TRADEGY AND A RIDER WITHOUT IT'S DRAGON IS DEAD"
   ]
  },
  {
   "cell_type": "markdown",
   "id": "1fc13cbb",
   "metadata": {},
   "source": [
    "# WELCOME TO THE FOURTH WING"
   ]
  },
  {
   "cell_type": "code",
   "execution_count": 51,
   "id": "ba442fa2",
   "metadata": {},
   "outputs": [],
   "source": [
    "# multiple assignment\n",
    "\n",
    "n1,n2, s= 3, 4, \"chIkki\""
   ]
  },
  {
   "cell_type": "code",
   "execution_count": 52,
   "id": "153c01f3",
   "metadata": {},
   "outputs": [
    {
     "data": {
      "text/plain": [
       "3"
      ]
     },
     "execution_count": 52,
     "metadata": {},
     "output_type": "execute_result"
    }
   ],
   "source": [
    "n1"
   ]
  },
  {
   "cell_type": "code",
   "execution_count": 53,
   "id": "7ee2c5bf",
   "metadata": {},
   "outputs": [
    {
     "data": {
      "text/plain": [
       "4"
      ]
     },
     "execution_count": 53,
     "metadata": {},
     "output_type": "execute_result"
    }
   ],
   "source": [
    "n2"
   ]
  },
  {
   "cell_type": "code",
   "execution_count": 54,
   "id": "45b6b637",
   "metadata": {},
   "outputs": [
    {
     "data": {
      "text/plain": [
       "'chIkki'"
      ]
     },
     "execution_count": 54,
     "metadata": {},
     "output_type": "execute_result"
    }
   ],
   "source": [
    "s"
   ]
  },
  {
   "cell_type": "code",
   "execution_count": 55,
   "id": "ea70d0c5",
   "metadata": {},
   "outputs": [
    {
     "data": {
      "text/plain": [
       "7"
      ]
     },
     "execution_count": 55,
     "metadata": {},
     "output_type": "execute_result"
    }
   ],
   "source": [
    "n1+n2"
   ]
  },
  {
   "cell_type": "code",
   "execution_count": 56,
   "id": "6c87be03",
   "metadata": {},
   "outputs": [
    {
     "data": {
      "text/plain": [
       "'CHIKKI'"
      ]
     },
     "execution_count": 56,
     "metadata": {},
     "output_type": "execute_result"
    }
   ],
   "source": [
    "s.upper()"
   ]
  },
  {
   "cell_type": "code",
   "execution_count": 57,
   "id": "a75af724",
   "metadata": {},
   "outputs": [
    {
     "data": {
      "text/plain": [
       "'chIkki'"
      ]
     },
     "execution_count": 57,
     "metadata": {},
     "output_type": "execute_result"
    }
   ],
   "source": [
    "s"
   ]
  },
  {
   "cell_type": "code",
   "execution_count": 65,
   "id": "ed205af3",
   "metadata": {},
   "outputs": [
    {
     "data": {
      "text/plain": [
       "'CHIKKI'"
      ]
     },
     "execution_count": 65,
     "metadata": {},
     "output_type": "execute_result"
    }
   ],
   "source": [
    " s.upper()"
   ]
  },
  {
   "cell_type": "code",
   "execution_count": 66,
   "id": "bb60d04a",
   "metadata": {},
   "outputs": [
    {
     "data": {
      "text/plain": [
       "'CHIKKI'"
      ]
     },
     "execution_count": 66,
     "metadata": {},
     "output_type": "execute_result"
    }
   ],
   "source": [
    "s\n"
   ]
  },
  {
   "cell_type": "code",
   "execution_count": 67,
   "id": "e940ce26",
   "metadata": {},
   "outputs": [
    {
     "data": {
      "text/plain": [
       "'chikki'"
      ]
     },
     "execution_count": 67,
     "metadata": {},
     "output_type": "execute_result"
    }
   ],
   "source": [
    "s.swapcase()"
   ]
  },
  {
   "cell_type": "code",
   "execution_count": 68,
   "id": "008b6ca5",
   "metadata": {},
   "outputs": [
    {
     "data": {
      "text/plain": [
       "6"
      ]
     },
     "execution_count": 68,
     "metadata": {},
     "output_type": "execute_result"
    }
   ],
   "source": [
    "len(s)"
   ]
  },
  {
   "cell_type": "code",
   "execution_count": 69,
   "id": "0fec17ec",
   "metadata": {},
   "outputs": [
    {
     "data": {
      "text/plain": [
       "False"
      ]
     },
     "execution_count": 69,
     "metadata": {},
     "output_type": "execute_result"
    }
   ],
   "source": [
    "s.islower()"
   ]
  },
  {
   "cell_type": "code",
   "execution_count": 64,
   "id": "075f9096",
   "metadata": {},
   "outputs": [
    {
     "data": {
      "text/plain": [
       "True"
      ]
     },
     "execution_count": 64,
     "metadata": {},
     "output_type": "execute_result"
    }
   ],
   "source": [
    "s.isupper()"
   ]
  },
  {
   "cell_type": "code",
   "execution_count": 70,
   "id": "2a578818",
   "metadata": {},
   "outputs": [
    {
     "data": {
      "text/plain": [
       "False"
      ]
     },
     "execution_count": 70,
     "metadata": {},
     "output_type": "execute_result"
    }
   ],
   "source": [
    "s.istitle()"
   ]
  },
  {
   "cell_type": "code",
   "execution_count": 73,
   "id": "5862f6e8",
   "metadata": {},
   "outputs": [],
   "source": [
    "name  = ' Chikki  '"
   ]
  },
  {
   "cell_type": "code",
   "execution_count": 74,
   "id": "408d40c6",
   "metadata": {},
   "outputs": [
    {
     "data": {
      "text/plain": [
       "' Chikki  '"
      ]
     },
     "execution_count": 74,
     "metadata": {},
     "output_type": "execute_result"
    }
   ],
   "source": [
    "name"
   ]
  },
  {
   "cell_type": "code",
   "execution_count": 75,
   "id": "55207788",
   "metadata": {},
   "outputs": [
    {
     "ename": "AttributeError",
     "evalue": "'str' object has no attribute 'trim'",
     "output_type": "error",
     "traceback": [
      "\u001b[1;31m---------------------------------------------------------------------------\u001b[0m",
      "\u001b[1;31mAttributeError\u001b[0m                            Traceback (most recent call last)",
      "Cell \u001b[1;32mIn[75], line 1\u001b[0m\n\u001b[1;32m----> 1\u001b[0m name\u001b[38;5;241m.\u001b[39mtrim()\n",
      "\u001b[1;31mAttributeError\u001b[0m: 'str' object has no attribute 'trim'"
     ]
    }
   ],
   "source": [
    "name.trim()"
   ]
  },
  {
   "cell_type": "code",
   "execution_count": 76,
   "id": "db483b4e",
   "metadata": {},
   "outputs": [
    {
     "data": {
      "text/plain": [
       "'Chikki  '"
      ]
     },
     "execution_count": 76,
     "metadata": {},
     "output_type": "execute_result"
    }
   ],
   "source": [
    "name.lstrip()"
   ]
  },
  {
   "cell_type": "code",
   "execution_count": 78,
   "id": "f91c04f5",
   "metadata": {},
   "outputs": [
    {
     "data": {
      "text/plain": [
       "' Chikki'"
      ]
     },
     "execution_count": 78,
     "metadata": {},
     "output_type": "execute_result"
    }
   ],
   "source": [
    "name.rstrip()"
   ]
  },
  {
   "cell_type": "code",
   "execution_count": 79,
   "id": "5301a394",
   "metadata": {},
   "outputs": [
    {
     "data": {
      "text/plain": [
       "'Chikki'"
      ]
     },
     "execution_count": 79,
     "metadata": {},
     "output_type": "execute_result"
    }
   ],
   "source": [
    "name.strip()"
   ]
  },
  {
   "cell_type": "code",
   "execution_count": 81,
   "id": "4f65a25b",
   "metadata": {},
   "outputs": [
    {
     "data": {
      "text/plain": [
       "False"
      ]
     },
     "execution_count": 81,
     "metadata": {},
     "output_type": "execute_result"
    }
   ],
   "source": [
    "name.startswith('c')"
   ]
  },
  {
   "cell_type": "code",
   "execution_count": 83,
   "id": "4f0a985b",
   "metadata": {},
   "outputs": [
    {
     "data": {
      "text/plain": [
       "False"
      ]
     },
     "execution_count": 83,
     "metadata": {},
     "output_type": "execute_result"
    }
   ],
   "source": [
    "name.endswith('I')"
   ]
  },
  {
   "cell_type": "code",
   "execution_count": 84,
   "id": "27c31e59",
   "metadata": {},
   "outputs": [
    {
     "data": {
      "text/plain": [
       "'C:\\\\Users\\\\mihik'"
      ]
     },
     "execution_count": 84,
     "metadata": {},
     "output_type": "execute_result"
    }
   ],
   "source": [
    "pwd"
   ]
  },
  {
   "cell_type": "code",
   "execution_count": 85,
   "id": "f5213d12",
   "metadata": {},
   "outputs": [],
   "source": [
    "name = 'Zade'"
   ]
  },
  {
   "cell_type": "code",
   "execution_count": 86,
   "id": "a3983dd9",
   "metadata": {},
   "outputs": [
    {
     "data": {
      "text/plain": [
       "'Xade'"
      ]
     },
     "execution_count": 86,
     "metadata": {},
     "output_type": "execute_result"
    }
   ],
   "source": [
    "name.replace('Z', 'X')"
   ]
  },
  {
   "cell_type": "code",
   "execution_count": 87,
   "id": "3eaad317",
   "metadata": {},
   "outputs": [
    {
     "data": {
      "text/plain": [
       "-1"
      ]
     },
     "execution_count": 87,
     "metadata": {},
     "output_type": "execute_result"
    }
   ],
   "source": [
    "name.find('X')"
   ]
  },
  {
   "cell_type": "code",
   "execution_count": 88,
   "id": "59001416",
   "metadata": {},
   "outputs": [
    {
     "data": {
      "text/plain": [
       "0"
      ]
     },
     "execution_count": 88,
     "metadata": {},
     "output_type": "execute_result"
    }
   ],
   "source": [
    "name.find('Z')"
   ]
  },
  {
   "cell_type": "code",
   "execution_count": 89,
   "id": "b147b728",
   "metadata": {},
   "outputs": [
    {
     "data": {
      "text/plain": [
       "['__add__',\n",
       " '__class__',\n",
       " '__contains__',\n",
       " '__delattr__',\n",
       " '__dir__',\n",
       " '__doc__',\n",
       " '__eq__',\n",
       " '__format__',\n",
       " '__ge__',\n",
       " '__getattribute__',\n",
       " '__getitem__',\n",
       " '__getnewargs__',\n",
       " '__getstate__',\n",
       " '__gt__',\n",
       " '__hash__',\n",
       " '__init__',\n",
       " '__init_subclass__',\n",
       " '__iter__',\n",
       " '__le__',\n",
       " '__len__',\n",
       " '__lt__',\n",
       " '__mod__',\n",
       " '__mul__',\n",
       " '__ne__',\n",
       " '__new__',\n",
       " '__reduce__',\n",
       " '__reduce_ex__',\n",
       " '__repr__',\n",
       " '__rmod__',\n",
       " '__rmul__',\n",
       " '__setattr__',\n",
       " '__sizeof__',\n",
       " '__str__',\n",
       " '__subclasshook__',\n",
       " 'capitalize',\n",
       " 'casefold',\n",
       " 'center',\n",
       " 'count',\n",
       " 'encode',\n",
       " 'endswith',\n",
       " 'expandtabs',\n",
       " 'find',\n",
       " 'format',\n",
       " 'format_map',\n",
       " 'index',\n",
       " 'isalnum',\n",
       " 'isalpha',\n",
       " 'isascii',\n",
       " 'isdecimal',\n",
       " 'isdigit',\n",
       " 'isidentifier',\n",
       " 'islower',\n",
       " 'isnumeric',\n",
       " 'isprintable',\n",
       " 'isspace',\n",
       " 'istitle',\n",
       " 'isupper',\n",
       " 'join',\n",
       " 'ljust',\n",
       " 'lower',\n",
       " 'lstrip',\n",
       " 'maketrans',\n",
       " 'partition',\n",
       " 'removeprefix',\n",
       " 'removesuffix',\n",
       " 'replace',\n",
       " 'rfind',\n",
       " 'rindex',\n",
       " 'rjust',\n",
       " 'rpartition',\n",
       " 'rsplit',\n",
       " 'rstrip',\n",
       " 'split',\n",
       " 'splitlines',\n",
       " 'startswith',\n",
       " 'strip',\n",
       " 'swapcase',\n",
       " 'title',\n",
       " 'translate',\n",
       " 'upper',\n",
       " 'zfill']"
      ]
     },
     "execution_count": 89,
     "metadata": {},
     "output_type": "execute_result"
    }
   ],
   "source": [
    "dir(name)"
   ]
  },
  {
   "cell_type": "code",
   "execution_count": 90,
   "id": "1b6c621f",
   "metadata": {},
   "outputs": [
    {
     "ename": "TypeError",
     "evalue": "str.translate() takes exactly one argument (0 given)",
     "output_type": "error",
     "traceback": [
      "\u001b[1;31m---------------------------------------------------------------------------\u001b[0m",
      "\u001b[1;31mTypeError\u001b[0m                                 Traceback (most recent call last)",
      "Cell \u001b[1;32mIn[90], line 1\u001b[0m\n\u001b[1;32m----> 1\u001b[0m s\u001b[38;5;241m.\u001b[39mtranslate()\n",
      "\u001b[1;31mTypeError\u001b[0m: str.translate() takes exactly one argument (0 given)"
     ]
    }
   ],
   "source": [
    "s.translate()"
   ]
  },
  {
   "cell_type": "code",
   "execution_count": 91,
   "id": "a06c4c60",
   "metadata": {},
   "outputs": [
    {
     "name": "stdout",
     "output_type": "stream",
     "text": [
      "Help on built-in function translate:\n",
      "\n",
      "translate(table, /) method of builtins.str instance\n",
      "    Replace each character in the string using the given translation table.\n",
      "    \n",
      "      table\n",
      "        Translation table, which must be a mapping of Unicode ordinals to\n",
      "        Unicode ordinals, strings, or None.\n",
      "    \n",
      "    The table must implement lookup/indexing via __getitem__, for instance a\n",
      "    dictionary or list.  If this operation raises LookupError, the character is\n",
      "    left untouched.  Characters mapped to None are deleted.\n",
      "\n"
     ]
    }
   ],
   "source": [
    "help(s.translate)"
   ]
  },
  {
   "cell_type": "code",
   "execution_count": 92,
   "id": "63d44839",
   "metadata": {},
   "outputs": [
    {
     "name": "stdout",
     "output_type": "stream",
     "text": [
      "Help on built-in function isnumeric:\n",
      "\n",
      "isnumeric() method of builtins.str instance\n",
      "    Return True if the string is a numeric string, False otherwise.\n",
      "    \n",
      "    A string is numeric if all characters in the string are numeric and there is at\n",
      "    least one character in the string.\n",
      "\n"
     ]
    }
   ],
   "source": [
    "help(name.isnumeric)"
   ]
  },
  {
   "cell_type": "code",
   "execution_count": 96,
   "id": "8e5dcaa0",
   "metadata": {},
   "outputs": [],
   "source": [
    "result  = s +  \" and \" + name + \" = bliss!!! \" "
   ]
  },
  {
   "cell_type": "code",
   "execution_count": 97,
   "id": "258f0d5c",
   "metadata": {},
   "outputs": [
    {
     "data": {
      "text/plain": [
       "'CHIKKI and Zade = bliss!!! '"
      ]
     },
     "execution_count": 97,
     "metadata": {},
     "output_type": "execute_result"
    }
   ],
   "source": [
    "result"
   ]
  },
  {
   "cell_type": "code",
   "execution_count": 98,
   "id": "68fbb168",
   "metadata": {},
   "outputs": [
    {
     "name": "stdout",
     "output_type": "stream",
     "text": [
      "HELLO\n",
      "\tworld\n"
     ]
    }
   ],
   "source": [
    "print('HELLO\\n\\tworld')"
   ]
  },
  {
   "cell_type": "code",
   "execution_count": 101,
   "id": "48927769",
   "metadata": {},
   "outputs": [
    {
     "name": "stdout",
     "output_type": "stream",
     "text": [
      "HELL\\O\\WORLD\n"
     ]
    }
   ],
   "source": [
    "print('HELL\\\\O\\\\WORLD')"
   ]
  },
  {
   "cell_type": "code",
   "execution_count": 102,
   "id": "543693dc",
   "metadata": {},
   "outputs": [],
   "source": [
    "doc = ''' this is first line\n",
    "this is second line\n",
    "'''"
   ]
  },
  {
   "cell_type": "code",
   "execution_count": 103,
   "id": "d3272510",
   "metadata": {},
   "outputs": [
    {
     "data": {
      "text/plain": [
       "' this is first line\\nthis is second line\\n'"
      ]
     },
     "execution_count": 103,
     "metadata": {},
     "output_type": "execute_result"
    }
   ],
   "source": [
    "doc"
   ]
  },
  {
   "cell_type": "code",
   "execution_count": 112,
   "id": "b6216c59",
   "metadata": {},
   "outputs": [
    {
     "data": {
      "text/plain": [
       "str"
      ]
     },
     "execution_count": 112,
     "metadata": {},
     "output_type": "execute_result"
    }
   ],
   "source": [
    "type(doc[21])"
   ]
  },
  {
   "cell_type": "code",
   "execution_count": 117,
   "id": "e7a5e281",
   "metadata": {},
   "outputs": [
    {
     "name": "stdout",
     "output_type": "stream",
     "text": [
      "String is CHIKKI, name is 3, float is 78.00\n"
     ]
    }
   ],
   "source": [
    "print(\"String is %s, name is %i, float is %.2f\"%( s, n1, num))\n",
    "#THIS IS FORMATTED STRING"
   ]
  },
  {
   "cell_type": "code",
   "execution_count": 119,
   "id": "431d6bc3",
   "metadata": {},
   "outputs": [
    {
     "name": "stdout",
     "output_type": "stream",
     "text": [
      "Zade MEADOWS 3\n"
     ]
    }
   ],
   "source": [
    "print(name, \"MEADOWS\",n1, sep = ' ')"
   ]
  },
  {
   "cell_type": "code",
   "execution_count": 120,
   "id": "b07feb80",
   "metadata": {},
   "outputs": [
    {
     "name": "stdout",
     "output_type": "stream",
     "text": [
      "Zade MEADOWS >>>>>"
     ]
    }
   ],
   "source": [
    "print(name, \"MEADOWS\", end = ' >>>>>')"
   ]
  },
  {
   "cell_type": "code",
   "execution_count": 124,
   "id": "6a18e269",
   "metadata": {},
   "outputs": [
    {
     "data": {
      "text/plain": [
       "1"
      ]
     },
     "execution_count": 124,
     "metadata": {},
     "output_type": "execute_result"
    }
   ],
   "source": [
    "10 // 6  #flow division"
   ]
  },
  {
   "cell_type": "markdown",
   "id": "983fb51e",
   "metadata": {},
   "source": []
  },
  {
   "cell_type": "code",
   "execution_count": 125,
   "id": "6eab92a4",
   "metadata": {},
   "outputs": [
    {
     "data": {
      "text/plain": [
       "1"
      ]
     },
     "execution_count": 125,
     "metadata": {},
     "output_type": "execute_result"
    }
   ],
   "source": [
    "10 % 3"
   ]
  },
  {
   "cell_type": "code",
   "execution_count": 126,
   "id": "318d5adf",
   "metadata": {},
   "outputs": [
    {
     "data": {
      "text/plain": [
       "8"
      ]
     },
     "execution_count": 126,
     "metadata": {},
     "output_type": "execute_result"
    }
   ],
   "source": [
    "2 ** 3"
   ]
  },
  {
   "cell_type": "code",
   "execution_count": 127,
   "id": "39ab8cf4",
   "metadata": {},
   "outputs": [
    {
     "data": {
      "text/plain": [
       "False"
      ]
     },
     "execution_count": 127,
     "metadata": {},
     "output_type": "execute_result"
    }
   ],
   "source": [
    "n1 > num"
   ]
  },
  {
   "cell_type": "code",
   "execution_count": 128,
   "id": "b0823bd2",
   "metadata": {},
   "outputs": [
    {
     "ename": "SyntaxError",
     "evalue": "invalid syntax (2241152234.py, line 1)",
     "output_type": "error",
     "traceback": [
      "\u001b[1;36m  Cell \u001b[1;32mIn[128], line 1\u001b[1;36m\u001b[0m\n\u001b[1;33m    n1++\u001b[0m\n\u001b[1;37m            ^\u001b[0m\n\u001b[1;31mSyntaxError\u001b[0m\u001b[1;31m:\u001b[0m invalid syntax\n"
     ]
    }
   ],
   "source": [
    "n1++    "
   ]
  },
  {
   "cell_type": "code",
   "execution_count": 130,
   "id": "a80196fb",
   "metadata": {},
   "outputs": [
    {
     "ename": "SyntaxError",
     "evalue": "invalid syntax (803269614.py, line 1)",
     "output_type": "error",
     "traceback": [
      "\u001b[1;36m  Cell \u001b[1;32mIn[130], line 1\u001b[1;36m\u001b[0m\n\u001b[1;33m    num++\u001b[0m\n\u001b[1;37m         ^\u001b[0m\n\u001b[1;31mSyntaxError\u001b[0m\u001b[1;31m:\u001b[0m invalid syntax\n"
     ]
    }
   ],
   "source": [
    "num++"
   ]
  },
  {
   "cell_type": "markdown",
   "id": "d3df1727",
   "metadata": {},
   "source": []
  },
  {
   "cell_type": "code",
   "execution_count": 131,
   "id": "225bd55f",
   "metadata": {},
   "outputs": [
    {
     "data": {
      "text/plain": [
       "78"
      ]
     },
     "execution_count": 131,
     "metadata": {},
     "output_type": "execute_result"
    }
   ],
   "source": [
    "num"
   ]
  },
  {
   "cell_type": "code",
   "execution_count": 132,
   "id": "16cbeff1",
   "metadata": {},
   "outputs": [],
   "source": [
    "num = 78"
   ]
  },
  {
   "cell_type": "code",
   "execution_count": 133,
   "id": "eb66e3e1",
   "metadata": {},
   "outputs": [
    {
     "ename": "SyntaxError",
     "evalue": "invalid syntax (803269614.py, line 1)",
     "output_type": "error",
     "traceback": [
      "\u001b[1;36m  Cell \u001b[1;32mIn[133], line 1\u001b[1;36m\u001b[0m\n\u001b[1;33m    num++\u001b[0m\n\u001b[1;37m         ^\u001b[0m\n\u001b[1;31mSyntaxError\u001b[0m\u001b[1;31m:\u001b[0m invalid syntax\n"
     ]
    }
   ],
   "source": [
    "num++"
   ]
  },
  {
   "cell_type": "code",
   "execution_count": 134,
   "id": "07f16553",
   "metadata": {},
   "outputs": [
    {
     "data": {
      "text/plain": [
       "78"
      ]
     },
     "execution_count": 134,
     "metadata": {},
     "output_type": "execute_result"
    }
   ],
   "source": [
    "num"
   ]
  },
  {
   "cell_type": "code",
   "execution_count": 135,
   "id": "e24d2b5f",
   "metadata": {},
   "outputs": [
    {
     "name": "stdout",
     "output_type": "stream",
     "text": [
      "enter n134\n"
     ]
    }
   ],
   "source": [
    "n1= input('enter n1')"
   ]
  },
  {
   "cell_type": "code",
   "execution_count": 136,
   "id": "f2df2298",
   "metadata": {},
   "outputs": [
    {
     "data": {
      "text/plain": [
       "'34'"
      ]
     },
     "execution_count": 136,
     "metadata": {},
     "output_type": "execute_result"
    }
   ],
   "source": [
    "n1"
   ]
  },
  {
   "cell_type": "code",
   "execution_count": 137,
   "id": "e6a30ec5",
   "metadata": {},
   "outputs": [
    {
     "name": "stdout",
     "output_type": "stream",
     "text": [
      "enter n134\n"
     ]
    }
   ],
   "source": [
    "n1 = int(input('enter n1 : '))"
   ]
  },
  {
   "cell_type": "code",
   "execution_count": 138,
   "id": "00ab861d",
   "metadata": {},
   "outputs": [
    {
     "data": {
      "text/plain": [
       "38"
      ]
     },
     "execution_count": 138,
     "metadata": {},
     "output_type": "execute_result"
    }
   ],
   "source": [
    "n1 + 4"
   ]
  },
  {
   "cell_type": "code",
   "execution_count": 139,
   "id": "08d8874f",
   "metadata": {},
   "outputs": [
    {
     "name": "stdout",
     "output_type": "stream",
     "text": [
      "n : 23\n"
     ]
    }
   ],
   "source": [
    "n = input(\"n : \")"
   ]
  },
  {
   "cell_type": "code",
   "execution_count": null,
   "id": "f613d9e8",
   "metadata": {},
   "outputs": [],
   "source": []
  }
 ],
 "metadata": {
  "kernelspec": {
   "display_name": "Python 3 (ipykernel)",
   "language": "python",
   "name": "python3"
  },
  "language_info": {
   "codemirror_mode": {
    "name": "ipython",
    "version": 3
   },
   "file_extension": ".py",
   "mimetype": "text/x-python",
   "name": "python",
   "nbconvert_exporter": "python",
   "pygments_lexer": "ipython3",
   "version": "3.11.5"
  }
 },
 "nbformat": 4,
 "nbformat_minor": 5
}
