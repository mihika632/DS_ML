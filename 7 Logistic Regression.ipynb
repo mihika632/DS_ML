{
 "cells": [
  {
   "cell_type": "markdown",
   "id": "bc33c3ef",
   "metadata": {},
   "source": [
    "# classification "
   ]
  },
  {
   "cell_type": "code",
   "execution_count": 1,
   "id": "c5057ce8",
   "metadata": {},
   "outputs": [],
   "source": [
    "# classifier -> algo that is is used to map the input data to a specific category"
   ]
  },
  {
   "cell_type": "code",
   "execution_count": 2,
   "id": "dfb2ba8e",
   "metadata": {},
   "outputs": [],
   "source": [
    "# DATASET: SOCIAL_NETWROK.ADS"
   ]
  },
  {
   "cell_type": "code",
   "execution_count": 4,
   "id": "ee687ec2",
   "metadata": {},
   "outputs": [],
   "source": [
    "import pandas as pd\n",
    "import matplotlib.pyplot as plt\n",
    "import seaborn as sns\n",
    "import numpy as np"
   ]
  },
  {
   "cell_type": "code",
   "execution_count": 5,
   "id": "4efb74fe",
   "metadata": {},
   "outputs": [],
   "source": [
    "df = pd.read_csv('Social_Network_Ads.csv')"
   ]
  },
  {
   "cell_type": "code",
   "execution_count": 6,
   "id": "f9546784",
   "metadata": {},
   "outputs": [
    {
     "data": {
      "text/html": [
       "<div>\n",
       "<style scoped>\n",
       "    .dataframe tbody tr th:only-of-type {\n",
       "        vertical-align: middle;\n",
       "    }\n",
       "\n",
       "    .dataframe tbody tr th {\n",
       "        vertical-align: top;\n",
       "    }\n",
       "\n",
       "    .dataframe thead th {\n",
       "        text-align: right;\n",
       "    }\n",
       "</style>\n",
       "<table border=\"1\" class=\"dataframe\">\n",
       "  <thead>\n",
       "    <tr style=\"text-align: right;\">\n",
       "      <th></th>\n",
       "      <th>User ID</th>\n",
       "      <th>Gender</th>\n",
       "      <th>Age</th>\n",
       "      <th>EstimatedSalary</th>\n",
       "      <th>Purchased</th>\n",
       "    </tr>\n",
       "  </thead>\n",
       "  <tbody>\n",
       "    <tr>\n",
       "      <th>0</th>\n",
       "      <td>15624510</td>\n",
       "      <td>Male</td>\n",
       "      <td>19.0</td>\n",
       "      <td>19000.0</td>\n",
       "      <td>0</td>\n",
       "    </tr>\n",
       "    <tr>\n",
       "      <th>1</th>\n",
       "      <td>15810944</td>\n",
       "      <td>Male</td>\n",
       "      <td>35.0</td>\n",
       "      <td>20000.0</td>\n",
       "      <td>0</td>\n",
       "    </tr>\n",
       "    <tr>\n",
       "      <th>2</th>\n",
       "      <td>15668575</td>\n",
       "      <td>Female</td>\n",
       "      <td>26.0</td>\n",
       "      <td>43000.0</td>\n",
       "      <td>0</td>\n",
       "    </tr>\n",
       "    <tr>\n",
       "      <th>3</th>\n",
       "      <td>15603246</td>\n",
       "      <td>Female</td>\n",
       "      <td>27.0</td>\n",
       "      <td>57000.0</td>\n",
       "      <td>0</td>\n",
       "    </tr>\n",
       "    <tr>\n",
       "      <th>4</th>\n",
       "      <td>15804002</td>\n",
       "      <td>Male</td>\n",
       "      <td>19.0</td>\n",
       "      <td>76000.0</td>\n",
       "      <td>0</td>\n",
       "    </tr>\n",
       "    <tr>\n",
       "      <th>...</th>\n",
       "      <td>...</td>\n",
       "      <td>...</td>\n",
       "      <td>...</td>\n",
       "      <td>...</td>\n",
       "      <td>...</td>\n",
       "    </tr>\n",
       "    <tr>\n",
       "      <th>395</th>\n",
       "      <td>15691863</td>\n",
       "      <td>Female</td>\n",
       "      <td>46.0</td>\n",
       "      <td>41000.0</td>\n",
       "      <td>1</td>\n",
       "    </tr>\n",
       "    <tr>\n",
       "      <th>396</th>\n",
       "      <td>15706071</td>\n",
       "      <td>Male</td>\n",
       "      <td>51.0</td>\n",
       "      <td>23000.0</td>\n",
       "      <td>1</td>\n",
       "    </tr>\n",
       "    <tr>\n",
       "      <th>397</th>\n",
       "      <td>15654296</td>\n",
       "      <td>Female</td>\n",
       "      <td>50.0</td>\n",
       "      <td>20000.0</td>\n",
       "      <td>1</td>\n",
       "    </tr>\n",
       "    <tr>\n",
       "      <th>398</th>\n",
       "      <td>15755018</td>\n",
       "      <td>Male</td>\n",
       "      <td>36.0</td>\n",
       "      <td>33000.0</td>\n",
       "      <td>0</td>\n",
       "    </tr>\n",
       "    <tr>\n",
       "      <th>399</th>\n",
       "      <td>15594041</td>\n",
       "      <td>Female</td>\n",
       "      <td>49.0</td>\n",
       "      <td>36000.0</td>\n",
       "      <td>1</td>\n",
       "    </tr>\n",
       "  </tbody>\n",
       "</table>\n",
       "<p>400 rows × 5 columns</p>\n",
       "</div>"
      ],
      "text/plain": [
       "      User ID  Gender   Age  EstimatedSalary  Purchased\n",
       "0    15624510    Male  19.0          19000.0          0\n",
       "1    15810944    Male  35.0          20000.0          0\n",
       "2    15668575  Female  26.0          43000.0          0\n",
       "3    15603246  Female  27.0          57000.0          0\n",
       "4    15804002    Male  19.0          76000.0          0\n",
       "..        ...     ...   ...              ...        ...\n",
       "395  15691863  Female  46.0          41000.0          1\n",
       "396  15706071    Male  51.0          23000.0          1\n",
       "397  15654296  Female  50.0          20000.0          1\n",
       "398  15755018    Male  36.0          33000.0          0\n",
       "399  15594041  Female  49.0          36000.0          1\n",
       "\n",
       "[400 rows x 5 columns]"
      ]
     },
     "execution_count": 6,
     "metadata": {},
     "output_type": "execute_result"
    }
   ],
   "source": [
    "df"
   ]
  },
  {
   "cell_type": "markdown",
   "id": "cab9295c",
   "metadata": {},
   "source": [
    "##### separate input and o/p data1"
   ]
  },
  {
   "cell_type": "code",
   "execution_count": 7,
   "id": "752b9a41",
   "metadata": {},
   "outputs": [],
   "source": [
    "x = df[['Age', 'EstimatedSalary']]\n",
    "y = df['Purchased']"
   ]
  },
  {
   "cell_type": "markdown",
   "id": "4cf3f48f",
   "metadata": {},
   "source": [
    "#### o/p variable analysis"
   ]
  },
  {
   "cell_type": "code",
   "execution_count": 10,
   "id": "e53b2604",
   "metadata": {},
   "outputs": [
    {
     "data": {
      "text/plain": [
       "{0, 1}"
      ]
     },
     "execution_count": 10,
     "metadata": {},
     "output_type": "execute_result"
    }
   ],
   "source": [
    "set(y)   #contains unique values"
   ]
  },
  {
   "cell_type": "code",
   "execution_count": 11,
   "id": "c9fa771f",
   "metadata": {},
   "outputs": [
    {
     "data": {
      "text/plain": [
       "array([0, 1], dtype=int64)"
      ]
     },
     "execution_count": 11,
     "metadata": {},
     "output_type": "execute_result"
    }
   ],
   "source": [
    "np.unique(y)"
   ]
  },
  {
   "cell_type": "code",
   "execution_count": 12,
   "id": "fbc8f11e",
   "metadata": {},
   "outputs": [
    {
     "data": {
      "text/plain": [
       "<Axes: xlabel='Purchased', ylabel='count'>"
      ]
     },
     "execution_count": 12,
     "metadata": {},
     "output_type": "execute_result"
    },
    {
     "data": {
      "image/png": "[encoded data removed]",
      "text/plain": [
       "<Figure size 640x480 with 1 Axes>"
      ]
     },
     "metadata": {},
     "output_type": "display_data"
    }
   ],
   "source": [
    "sns.countplot(x = y)"
   ]
  },
  {
   "cell_type": "code",
   "execution_count": 15,
   "id": "e14ce309",
   "metadata": {},
   "outputs": [
    {
     "data": {
      "text/plain": [
       "<Axes: xlabel='count', ylabel='Purchased'>"
      ]
     },
     "execution_count": 15,
     "metadata": {},
     "output_type": "execute_result"
    },
    {
     "data": {
      "image/png": "[encoded data removed]",
      "text/plain": [
       "<Figure size 400x300 with 1 Axes>"
      ]
     },
     "metadata": {},
     "output_type": "display_data"
    }
   ],
   "source": [
    "plt.figure(figsize=(4,3))\n",
    "sns.countplot(y = y)"
   ]
  },
  {
   "cell_type": "code",
   "execution_count": 16,
   "id": "014a49a2",
   "metadata": {},
   "outputs": [
    {
     "data": {
      "text/plain": [
       "Purchased\n",
       "0    257\n",
       "1    143\n",
       "Name: count, dtype: int64"
      ]
     },
     "execution_count": 16,
     "metadata": {},
     "output_type": "execute_result"
    }
   ],
   "source": [
    "y.value_counts()"
   ]
  },
  {
   "cell_type": "code",
   "execution_count": 17,
   "id": "3ec98930",
   "metadata": {},
   "outputs": [
    {
     "data": {
      "text/plain": [
       "Counter({0: 257, 1: 143})"
      ]
     },
     "execution_count": 17,
     "metadata": {},
     "output_type": "execute_result"
    }
   ],
   "source": [
    "from collections import Counter\n",
    "Counter(y)"
   ]
  },
  {
   "cell_type": "code",
   "execution_count": 18,
   "id": "816f0f0e",
   "metadata": {},
   "outputs": [
    {
     "data": {
      "text/plain": [
       "(64.25, 35.75)"
      ]
     },
     "execution_count": 18,
     "metadata": {},
     "output_type": "execute_result"
    }
   ],
   "source": [
    "y.value_counts()[0]/len(y)*100, y.value_counts()[1]/len(y)*100\n",
    "\n"
   ]
  },
  {
   "cell_type": "markdown",
   "id": "518a30ce",
   "metadata": {},
   "source": [
    "#### I/P data analysis"
   ]
  },
  {
   "cell_type": "code",
   "execution_count": 20,
   "id": "ef5c1a93",
   "metadata": {},
   "outputs": [
    {
     "data": {
      "text/html": [
       "<div>\n",
       "<style scoped>\n",
       "    .dataframe tbody tr th:only-of-type {\n",
       "        vertical-align: middle;\n",
       "    }\n",
       "\n",
       "    .dataframe tbody tr th {\n",
       "        vertical-align: top;\n",
       "    }\n",
       "\n",
       "    .dataframe thead th {\n",
       "        text-align: right;\n",
       "    }\n",
       "</style>\n",
       "<table border=\"1\" class=\"dataframe\">\n",
       "  <thead>\n",
       "    <tr style=\"text-align: right;\">\n",
       "      <th></th>\n",
       "      <th>Age</th>\n",
       "      <th>EstimatedSalary</th>\n",
       "    </tr>\n",
       "  </thead>\n",
       "  <tbody>\n",
       "    <tr>\n",
       "      <th>count</th>\n",
       "      <td>400.000000</td>\n",
       "      <td>400.000000</td>\n",
       "    </tr>\n",
       "    <tr>\n",
       "      <th>mean</th>\n",
       "      <td>37.655000</td>\n",
       "      <td>69742.500000</td>\n",
       "    </tr>\n",
       "    <tr>\n",
       "      <th>std</th>\n",
       "      <td>10.482877</td>\n",
       "      <td>34096.960282</td>\n",
       "    </tr>\n",
       "    <tr>\n",
       "      <th>min</th>\n",
       "      <td>18.000000</td>\n",
       "      <td>15000.000000</td>\n",
       "    </tr>\n",
       "    <tr>\n",
       "      <th>25%</th>\n",
       "      <td>29.750000</td>\n",
       "      <td>43000.000000</td>\n",
       "    </tr>\n",
       "    <tr>\n",
       "      <th>50%</th>\n",
       "      <td>37.000000</td>\n",
       "      <td>70000.000000</td>\n",
       "    </tr>\n",
       "    <tr>\n",
       "      <th>75%</th>\n",
       "      <td>46.000000</td>\n",
       "      <td>88000.000000</td>\n",
       "    </tr>\n",
       "    <tr>\n",
       "      <th>max</th>\n",
       "      <td>60.000000</td>\n",
       "      <td>150000.000000</td>\n",
       "    </tr>\n",
       "  </tbody>\n",
       "</table>\n",
       "</div>"
      ],
      "text/plain": [
       "              Age  EstimatedSalary\n",
       "count  400.000000       400.000000\n",
       "mean    37.655000     69742.500000\n",
       "std     10.482877     34096.960282\n",
       "min     18.000000     15000.000000\n",
       "25%     29.750000     43000.000000\n",
       "50%     37.000000     70000.000000\n",
       "75%     46.000000     88000.000000\n",
       "max     60.000000    150000.000000"
      ]
     },
     "execution_count": 20,
     "metadata": {},
     "output_type": "execute_result"
    }
   ],
   "source": [
    "x.describe()"
   ]
  },
  {
   "cell_type": "code",
   "execution_count": 28,
   "id": "e222f64b",
   "metadata": {},
   "outputs": [
    {
     "data": {
      "text/plain": [
       "<matplotlib.legend.Legend at 0x1fc84ab23d0>"
      ]
     },
     "execution_count": 28,
     "metadata": {},
     "output_type": "execute_result"
    },
    {
     "data": {
      "image/png": "[encoded data removed]",
      "text/plain": [
       "<Figure size 400x400 with 1 Axes>"
      ]
     },
     "metadata": {},
     "output_type": "display_data"
    }
   ],
   "source": [
    "plt.figure(figsize=(4,4))\n",
    "plt.xlabel('Age')\n",
    "plt.ylabel('Salary')\n",
    "plt.grid()\n",
    "plt.scatter(x['Age'], x['EstimatedSalary'], c= y, label = 'Purchased')\n",
    "plt.legend()"
   ]
  },
  {
   "cell_type": "code",
   "execution_count": 25,
   "id": "792f2518",
   "metadata": {},
   "outputs": [
    {
     "data": {
      "text/plain": [
       "<seaborn.axisgrid.JointGrid at 0x1fc848d1510>"
      ]
     },
     "execution_count": 25,
     "metadata": {},
     "output_type": "execute_result"
    },
    {
     "data": {
      "image/png": "[encoded data removed]",
      "text/plain": [
       "<Figure size 600x600 with 3 Axes>"
      ]
     },
     "metadata": {},
     "output_type": "display_data"
    }
   ],
   "source": [
    "sns.jointplot(x = 'Age', y = 'EstimatedSalary', data = df, hue = 'Purchased')"
   ]
  },
  {
   "cell_type": "markdown",
   "id": "4d3a5097",
   "metadata": {},
   "source": [
    "# NORMALIZATION"
   ]
  },
  {
   "cell_type": "code",
   "execution_count": 46,
   "id": "335d284d",
   "metadata": {},
   "outputs": [],
   "source": [
    "from sklearn.preprocessing import MinMaxScaler\n",
    "scaler = MinMaxScaler()\n",
    "x_scaled = scaler.fit_transform(x)"
   ]
  },
  {
   "cell_type": "code",
   "execution_count": 48,
   "id": "16507e2a",
   "metadata": {},
   "outputs": [
    {
     "data": {
      "text/html": [
       "<div>\n",
       "<style scoped>\n",
       "    .dataframe tbody tr th:only-of-type {\n",
       "        vertical-align: middle;\n",
       "    }\n",
       "\n",
       "    .dataframe tbody tr th {\n",
       "        vertical-align: top;\n",
       "    }\n",
       "\n",
       "    .dataframe thead th {\n",
       "        text-align: right;\n",
       "    }\n",
       "</style>\n",
       "<table border=\"1\" class=\"dataframe\">\n",
       "  <thead>\n",
       "    <tr style=\"text-align: right;\">\n",
       "      <th></th>\n",
       "      <th>0</th>\n",
       "      <th>1</th>\n",
       "    </tr>\n",
       "  </thead>\n",
       "  <tbody>\n",
       "    <tr>\n",
       "      <th>count</th>\n",
       "      <td>400.000000</td>\n",
       "      <td>400.000000</td>\n",
       "    </tr>\n",
       "    <tr>\n",
       "      <th>mean</th>\n",
       "      <td>0.467976</td>\n",
       "      <td>0.405500</td>\n",
       "    </tr>\n",
       "    <tr>\n",
       "      <th>std</th>\n",
       "      <td>0.249592</td>\n",
       "      <td>0.252570</td>\n",
       "    </tr>\n",
       "    <tr>\n",
       "      <th>min</th>\n",
       "      <td>0.000000</td>\n",
       "      <td>0.000000</td>\n",
       "    </tr>\n",
       "    <tr>\n",
       "      <th>25%</th>\n",
       "      <td>0.279762</td>\n",
       "      <td>0.207407</td>\n",
       "    </tr>\n",
       "    <tr>\n",
       "      <th>50%</th>\n",
       "      <td>0.452381</td>\n",
       "      <td>0.407407</td>\n",
       "    </tr>\n",
       "    <tr>\n",
       "      <th>75%</th>\n",
       "      <td>0.666667</td>\n",
       "      <td>0.540741</td>\n",
       "    </tr>\n",
       "    <tr>\n",
       "      <th>max</th>\n",
       "      <td>1.000000</td>\n",
       "      <td>1.000000</td>\n",
       "    </tr>\n",
       "  </tbody>\n",
       "</table>\n",
       "</div>"
      ],
      "text/plain": [
       "                0           1\n",
       "count  400.000000  400.000000\n",
       "mean     0.467976    0.405500\n",
       "std      0.249592    0.252570\n",
       "min      0.000000    0.000000\n",
       "25%      0.279762    0.207407\n",
       "50%      0.452381    0.407407\n",
       "75%      0.666667    0.540741\n",
       "max      1.000000    1.000000"
      ]
     },
     "execution_count": 48,
     "metadata": {},
     "output_type": "execute_result"
    }
   ],
   "source": [
    "pd.DataFrame(x_scaled).describe()"
   ]
  },
  {
   "cell_type": "code",
   "execution_count": 50,
   "id": "4bd3092d",
   "metadata": {},
   "outputs": [
    {
     "data": {
      "text/plain": [
       "<matplotlib.legend.Legend at 0x1fc88856b10>"
      ]
     },
     "execution_count": 50,
     "metadata": {},
     "output_type": "execute_result"
    },
    {
     "data": {
      "image/png": "[encoded data removed]",
      "text/plain": [
       "<Figure size 400x400 with 1 Axes>"
      ]
     },
     "metadata": {},
     "output_type": "display_data"
    }
   ],
   "source": [
    "plt.figure(figsize=(4,4))\n",
    "plt.xlabel('Age')\n",
    "plt.ylabel('Salary')\n",
    "plt.grid()\n",
    "plt.scatter(x_scaled[:, 0], x_scaled[:,1], c= y, label = 'Purchased')\n",
    "plt.legend()"
   ]
  },
  {
   "cell_type": "code",
   "execution_count": null,
   "id": "ff86fc8c",
   "metadata": {},
   "outputs": [],
   "source": []
  },
  {
   "cell_type": "code",
   "execution_count": null,
   "id": "63f7acf8",
   "metadata": {},
   "outputs": [],
   "source": []
  },
  {
   "cell_type": "code",
   "execution_count": null,
   "id": "8990079f",
   "metadata": {},
   "outputs": [],
   "source": []
  },
  {
   "cell_type": "markdown",
   "id": "cbe1d692",
   "metadata": {},
   "source": [
    "#### CRROSS VALIDATION"
   ]
  },
  {
   "cell_type": "code",
   "execution_count": 29,
   "id": "516b3755",
   "metadata": {},
   "outputs": [],
   "source": [
    "from sklearn.model_selection import train_test_splitain_test_split"
   ]
  },
  {
   "cell_type": "code",
   "execution_count": 52,
   "id": "08c37546",
   "metadata": {},
   "outputs": [],
   "source": [
    "x_train, x_test, y_train, y_test = train_test_split(x_scaled,y, random_state=0)"
   ]
  },
  {
   "cell_type": "code",
   "execution_count": 53,
   "id": "b23514aa",
   "metadata": {},
   "outputs": [
    {
     "data": {
      "text/html": [
       "<div>\n",
       "<style scoped>\n",
       "    .dataframe tbody tr th:only-of-type {\n",
       "        vertical-align: middle;\n",
       "    }\n",
       "\n",
       "    .dataframe tbody tr th {\n",
       "        vertical-align: top;\n",
       "    }\n",
       "\n",
       "    .dataframe thead th {\n",
       "        text-align: right;\n",
       "    }\n",
       "</style>\n",
       "<table border=\"1\" class=\"dataframe\">\n",
       "  <thead>\n",
       "    <tr style=\"text-align: right;\">\n",
       "      <th></th>\n",
       "      <th>Age</th>\n",
       "      <th>EstimatedSalary</th>\n",
       "    </tr>\n",
       "  </thead>\n",
       "  <tbody>\n",
       "    <tr>\n",
       "      <th>0</th>\n",
       "      <td>19.0</td>\n",
       "      <td>19000.0</td>\n",
       "    </tr>\n",
       "    <tr>\n",
       "      <th>1</th>\n",
       "      <td>35.0</td>\n",
       "      <td>20000.0</td>\n",
       "    </tr>\n",
       "    <tr>\n",
       "      <th>2</th>\n",
       "      <td>26.0</td>\n",
       "      <td>43000.0</td>\n",
       "    </tr>\n",
       "    <tr>\n",
       "      <th>3</th>\n",
       "      <td>27.0</td>\n",
       "      <td>57000.0</td>\n",
       "    </tr>\n",
       "    <tr>\n",
       "      <th>4</th>\n",
       "      <td>19.0</td>\n",
       "      <td>76000.0</td>\n",
       "    </tr>\n",
       "    <tr>\n",
       "      <th>...</th>\n",
       "      <td>...</td>\n",
       "      <td>...</td>\n",
       "    </tr>\n",
       "    <tr>\n",
       "      <th>395</th>\n",
       "      <td>46.0</td>\n",
       "      <td>41000.0</td>\n",
       "    </tr>\n",
       "    <tr>\n",
       "      <th>396</th>\n",
       "      <td>51.0</td>\n",
       "      <td>23000.0</td>\n",
       "    </tr>\n",
       "    <tr>\n",
       "      <th>397</th>\n",
       "      <td>50.0</td>\n",
       "      <td>20000.0</td>\n",
       "    </tr>\n",
       "    <tr>\n",
       "      <th>398</th>\n",
       "      <td>36.0</td>\n",
       "      <td>33000.0</td>\n",
       "    </tr>\n",
       "    <tr>\n",
       "      <th>399</th>\n",
       "      <td>49.0</td>\n",
       "      <td>36000.0</td>\n",
       "    </tr>\n",
       "  </tbody>\n",
       "</table>\n",
       "<p>400 rows × 2 columns</p>\n",
       "</div>"
      ],
      "text/plain": [
       "      Age  EstimatedSalary\n",
       "0    19.0          19000.0\n",
       "1    35.0          20000.0\n",
       "2    26.0          43000.0\n",
       "3    27.0          57000.0\n",
       "4    19.0          76000.0\n",
       "..    ...              ...\n",
       "395  46.0          41000.0\n",
       "396  51.0          23000.0\n",
       "397  50.0          20000.0\n",
       "398  36.0          33000.0\n",
       "399  49.0          36000.0\n",
       "\n",
       "[400 rows x 2 columns]"
      ]
     },
     "execution_count": 53,
     "metadata": {},
     "output_type": "execute_result"
    }
   ],
   "source": [
    "x"
   ]
  },
  {
   "cell_type": "code",
   "execution_count": 54,
   "id": "bca34212",
   "metadata": {},
   "outputs": [
    {
     "data": {
      "text/plain": [
       "(300, 2)"
      ]
     },
     "execution_count": 54,
     "metadata": {},
     "output_type": "execute_result"
    }
   ],
   "source": [
    "x_train.shape"
   ]
  },
  {
   "cell_type": "code",
   "execution_count": 55,
   "id": "09e5c1c2",
   "metadata": {},
   "outputs": [
    {
     "data": {
      "text/plain": [
       "(300,)"
      ]
     },
     "execution_count": 55,
     "metadata": {},
     "output_type": "execute_result"
    }
   ],
   "source": [
    "y_train.shape"
   ]
  },
  {
   "cell_type": "code",
   "execution_count": 56,
   "id": "725b7803",
   "metadata": {},
   "outputs": [
    {
     "data": {
      "text/plain": [
       "(100, 2)"
      ]
     },
     "execution_count": 56,
     "metadata": {},
     "output_type": "execute_result"
    }
   ],
   "source": [
    "x_test.shape\n"
   ]
  },
  {
   "cell_type": "code",
   "execution_count": 57,
   "id": "63ec4075",
   "metadata": {},
   "outputs": [
    {
     "data": {
      "text/plain": [
       "(100,)"
      ]
     },
     "execution_count": 57,
     "metadata": {},
     "output_type": "execute_result"
    }
   ],
   "source": [
    "y_test.shape\n"
   ]
  },
  {
   "cell_type": "code",
   "execution_count": 58,
   "id": "9e6de6e1",
   "metadata": {},
   "outputs": [
    {
     "data": {
      "text/plain": [
       "array([[0.61904762, 0.17777778],\n",
       "       [0.33333333, 0.77777778],\n",
       "       [0.47619048, 0.25925926],\n",
       "       [0.33333333, 0.88888889],\n",
       "       [0.80952381, 0.04444444],\n",
       "       [0.83333333, 0.65925926],\n",
       "       [0.5       , 0.2       ],\n",
       "       [0.47619048, 0.34074074],\n",
       "       [0.42857143, 0.25925926],\n",
       "       [0.42857143, 0.35555556],\n",
       "       [0.4047619 , 0.07407407],\n",
       "       [0.4047619 , 0.25925926],\n",
       "       [0.57142857, 0.42962963],\n",
       "       [0.69047619, 0.25185185],\n",
       "       [0.97619048, 0.1037037 ],\n",
       "       [0.73809524, 0.37037037],\n",
       "       [0.64285714, 0.85925926],\n",
       "       [0.30952381, 0.54814815],\n",
       "       [0.66666667, 0.4962963 ],\n",
       "       [0.69047619, 0.26666667],\n",
       "       [0.19047619, 0.        ],\n",
       "       [1.        , 0.64444444],\n",
       "       [0.47619048, 0.71851852],\n",
       "       [0.52380952, 0.68148148],\n",
       "       [0.57142857, 0.28148148],\n",
       "       [0.4047619 , 0.32592593],\n",
       "       [0.71428571, 0.19259259],\n",
       "       [0.71428571, 0.88148148],\n",
       "       [0.47619048, 0.72592593],\n",
       "       [0.26190476, 0.98518519],\n",
       "       [0.19047619, 0.        ],\n",
       "       [1.        , 0.2       ],\n",
       "       [0.14285714, 0.02962963],\n",
       "       [0.57142857, 0.99259259],\n",
       "       [0.66666667, 0.6       ],\n",
       "       [0.23809524, 0.32592593],\n",
       "       [0.5       , 0.6       ],\n",
       "       [0.23809524, 0.54814815],\n",
       "       [0.54761905, 0.42222222],\n",
       "       [0.64285714, 0.08148148],\n",
       "       [0.35714286, 0.4       ],\n",
       "       [0.04761905, 0.4962963 ],\n",
       "       [0.30952381, 0.43703704],\n",
       "       [0.57142857, 0.48148148],\n",
       "       [0.4047619 , 0.42222222],\n",
       "       [0.35714286, 0.99259259],\n",
       "       [0.52380952, 0.41481481],\n",
       "       [0.78571429, 0.97037037],\n",
       "       [0.66666667, 0.47407407],\n",
       "       [0.4047619 , 0.44444444],\n",
       "       [0.47619048, 0.26666667],\n",
       "       [0.42857143, 0.44444444],\n",
       "       [0.45238095, 0.46666667],\n",
       "       [0.47619048, 0.34074074],\n",
       "       [1.        , 0.68888889],\n",
       "       [0.04761905, 0.4962963 ],\n",
       "       [0.92857143, 0.43703704],\n",
       "       [0.57142857, 0.37037037],\n",
       "       [0.19047619, 0.48148148],\n",
       "       [0.66666667, 0.75555556],\n",
       "       [0.4047619 , 0.34074074],\n",
       "       [0.07142857, 0.39259259],\n",
       "       [0.23809524, 0.21481481],\n",
       "       [0.54761905, 0.53333333],\n",
       "       [0.45238095, 0.13333333],\n",
       "       [0.21428571, 0.55555556],\n",
       "       [0.5       , 0.2       ],\n",
       "       [0.23809524, 0.8       ],\n",
       "       [0.30952381, 0.76296296],\n",
       "       [0.16666667, 0.53333333],\n",
       "       [0.4047619 , 0.41481481],\n",
       "       [0.45238095, 0.40740741],\n",
       "       [0.4047619 , 0.17777778],\n",
       "       [0.69047619, 0.05925926],\n",
       "       [0.4047619 , 0.97777778],\n",
       "       [0.71428571, 0.91111111],\n",
       "       [0.19047619, 0.52592593],\n",
       "       [0.16666667, 0.47407407],\n",
       "       [0.80952381, 0.91111111],\n",
       "       [0.78571429, 0.05925926],\n",
       "       [0.4047619 , 0.33333333],\n",
       "       [0.35714286, 0.72592593],\n",
       "       [0.28571429, 0.68148148],\n",
       "       [0.71428571, 0.13333333],\n",
       "       [0.54761905, 0.48148148],\n",
       "       [0.71428571, 0.6       ],\n",
       "       [0.30952381, 0.02222222],\n",
       "       [0.30952381, 0.41481481],\n",
       "       [0.5952381 , 0.84444444],\n",
       "       [0.97619048, 0.45185185],\n",
       "       [0.        , 0.21481481],\n",
       "       [0.42857143, 0.76296296],\n",
       "       [0.57142857, 0.55555556],\n",
       "       [0.69047619, 0.11111111],\n",
       "       [0.19047619, 0.20740741],\n",
       "       [0.52380952, 0.46666667],\n",
       "       [0.66666667, 0.32592593],\n",
       "       [0.97619048, 0.2       ],\n",
       "       [0.66666667, 0.43703704],\n",
       "       [0.4047619 , 0.56296296],\n",
       "       [0.23809524, 0.32592593],\n",
       "       [0.52380952, 0.31111111],\n",
       "       [0.97619048, 0.94814815],\n",
       "       [0.92857143, 0.08148148],\n",
       "       [0.80952381, 0.17037037],\n",
       "       [0.69047619, 0.72592593],\n",
       "       [0.83333333, 0.94814815],\n",
       "       [0.4047619 , 0.08888889],\n",
       "       [0.95238095, 0.63703704],\n",
       "       [0.64285714, 0.22222222],\n",
       "       [0.11904762, 0.4962963 ],\n",
       "       [0.66666667, 0.05925926],\n",
       "       [0.57142857, 0.37037037],\n",
       "       [0.23809524, 0.51111111],\n",
       "       [0.47619048, 0.32592593],\n",
       "       [0.19047619, 0.51111111],\n",
       "       [0.26190476, 0.0962963 ],\n",
       "       [0.45238095, 0.41481481],\n",
       "       [0.0952381 , 0.2962963 ],\n",
       "       [0.71428571, 0.14814815],\n",
       "       [0.73809524, 0.0962963 ],\n",
       "       [0.47619048, 0.37037037],\n",
       "       [0.21428571, 0.01481481],\n",
       "       [0.66666667, 0.0962963 ],\n",
       "       [0.71428571, 0.93333333],\n",
       "       [0.19047619, 0.01481481],\n",
       "       [0.4047619 , 0.60740741],\n",
       "       [0.5       , 0.32592593],\n",
       "       [0.14285714, 0.08888889],\n",
       "       [0.33333333, 0.02222222],\n",
       "       [0.66666667, 0.54074074],\n",
       "       [0.4047619 , 0.31851852],\n",
       "       [0.9047619 , 0.33333333],\n",
       "       [0.69047619, 0.14074074],\n",
       "       [0.52380952, 0.42222222],\n",
       "       [0.33333333, 0.62962963],\n",
       "       [0.02380952, 0.04444444],\n",
       "       [0.16666667, 0.55555556],\n",
       "       [0.4047619 , 0.54074074],\n",
       "       [0.23809524, 0.12592593],\n",
       "       [0.76190476, 0.03703704],\n",
       "       [0.52380952, 0.32592593],\n",
       "       [0.76190476, 0.21481481],\n",
       "       [0.4047619 , 0.42222222],\n",
       "       [0.52380952, 0.94074074],\n",
       "       [0.66666667, 0.12592593],\n",
       "       [0.5       , 0.41481481],\n",
       "       [0.04761905, 0.43703704],\n",
       "       [0.26190476, 0.44444444],\n",
       "       [0.30952381, 0.45185185],\n",
       "       [0.69047619, 0.07407407],\n",
       "       [0.52380952, 0.34074074],\n",
       "       [0.38095238, 0.71851852],\n",
       "       [0.47619048, 0.48148148],\n",
       "       [0.57142857, 0.44444444],\n",
       "       [0.69047619, 0.23703704],\n",
       "       [0.5       , 0.44444444],\n",
       "       [0.02380952, 0.07407407],\n",
       "       [0.45238095, 0.48148148],\n",
       "       [0.42857143, 0.33333333],\n",
       "       [0.54761905, 0.27407407],\n",
       "       [0.42857143, 0.81481481],\n",
       "       [0.71428571, 0.1037037 ],\n",
       "       [0.42857143, 0.82222222],\n",
       "       [0.78571429, 0.88148148],\n",
       "       [0.21428571, 0.31111111],\n",
       "       [0.47619048, 0.41481481],\n",
       "       [0.5       , 0.34074074],\n",
       "       [0.0952381 , 0.08888889],\n",
       "       [0.35714286, 0.33333333],\n",
       "       [0.71428571, 0.43703704],\n",
       "       [0.95238095, 0.05925926],\n",
       "       [0.83333333, 0.42222222],\n",
       "       [0.33333333, 0.75555556],\n",
       "       [0.85714286, 0.40740741],\n",
       "       [0.28571429, 0.48148148],\n",
       "       [0.95238095, 0.59259259],\n",
       "       [0.19047619, 0.27407407],\n",
       "       [0.64285714, 0.47407407],\n",
       "       [0.14285714, 0.2962963 ],\n",
       "       [0.52380952, 0.44444444],\n",
       "       [0.35714286, 0.0962963 ],\n",
       "       [0.61904762, 0.91851852],\n",
       "       [0.0952381 , 0.02222222],\n",
       "       [0.35714286, 0.26666667],\n",
       "       [0.5952381 , 0.87407407],\n",
       "       [0.14285714, 0.12592593],\n",
       "       [0.66666667, 0.05185185],\n",
       "       [0.4047619 , 0.2962963 ],\n",
       "       [0.85714286, 0.65925926],\n",
       "       [0.71428571, 0.77037037],\n",
       "       [0.4047619 , 0.28148148],\n",
       "       [0.45238095, 0.95555556],\n",
       "       [0.11904762, 0.37777778],\n",
       "       [0.45238095, 0.9037037 ],\n",
       "       [0.30952381, 0.31851852],\n",
       "       [0.35714286, 0.19259259],\n",
       "       [0.64285714, 0.05185185],\n",
       "       [0.28571429, 0.        ],\n",
       "       [0.02380952, 0.02962963],\n",
       "       [0.73809524, 0.43703704],\n",
       "       [0.5       , 0.79259259],\n",
       "       [0.4047619 , 0.42962963],\n",
       "       [0.5       , 0.41481481],\n",
       "       [0.14285714, 0.05925926],\n",
       "       [0.54761905, 0.42222222],\n",
       "       [0.26190476, 0.5037037 ],\n",
       "       [0.85714286, 0.08148148],\n",
       "       [0.4047619 , 0.21481481],\n",
       "       [0.45238095, 0.44444444],\n",
       "       [0.26190476, 0.23703704],\n",
       "       [0.30952381, 0.39259259],\n",
       "       [0.57142857, 0.28888889],\n",
       "       [0.28571429, 0.88888889],\n",
       "       [0.80952381, 0.73333333],\n",
       "       [0.76190476, 0.15555556],\n",
       "       [0.9047619 , 0.87407407],\n",
       "       [0.26190476, 0.34074074],\n",
       "       [0.28571429, 0.54814815],\n",
       "       [0.19047619, 0.00740741],\n",
       "       [0.35714286, 0.11851852],\n",
       "       [0.54761905, 0.42222222],\n",
       "       [0.42857143, 0.13333333],\n",
       "       [0.88095238, 0.81481481],\n",
       "       [0.71428571, 0.85925926],\n",
       "       [0.54761905, 0.41481481],\n",
       "       [0.28571429, 0.34814815],\n",
       "       [0.45238095, 0.42222222],\n",
       "       [0.54761905, 0.35555556],\n",
       "       [0.95238095, 0.23703704],\n",
       "       [0.28571429, 0.74814815],\n",
       "       [0.04761905, 0.25185185],\n",
       "       [0.45238095, 0.43703704],\n",
       "       [0.54761905, 0.32592593],\n",
       "       [0.73809524, 0.54814815],\n",
       "       [0.23809524, 0.47407407],\n",
       "       [0.83333333, 0.4962963 ],\n",
       "       [0.52380952, 0.31111111],\n",
       "       [1.        , 0.14074074],\n",
       "       [0.4047619 , 0.68888889],\n",
       "       [0.07142857, 0.42222222],\n",
       "       [0.47619048, 0.41481481],\n",
       "       [0.5       , 0.67407407],\n",
       "       [0.45238095, 0.31111111],\n",
       "       [0.19047619, 0.42222222],\n",
       "       [0.4047619 , 0.05925926],\n",
       "       [0.85714286, 0.68888889],\n",
       "       [0.28571429, 0.01481481],\n",
       "       [0.5       , 0.88148148],\n",
       "       [0.26190476, 0.20740741],\n",
       "       [0.35714286, 0.20740741],\n",
       "       [0.4047619 , 0.17037037],\n",
       "       [0.54761905, 0.22222222],\n",
       "       [0.54761905, 0.42222222],\n",
       "       [0.5       , 0.88148148],\n",
       "       [0.21428571, 0.9037037 ],\n",
       "       [0.07142857, 0.00740741],\n",
       "       [0.19047619, 0.12592593],\n",
       "       [0.30952381, 0.37777778],\n",
       "       [0.5       , 0.42962963],\n",
       "       [0.54761905, 0.47407407],\n",
       "       [0.69047619, 0.25925926],\n",
       "       [0.54761905, 0.11111111],\n",
       "       [0.45238095, 0.57777778],\n",
       "       [1.        , 0.22962963],\n",
       "       [0.16666667, 0.05185185],\n",
       "       [0.23809524, 0.16296296],\n",
       "       [0.47619048, 0.2962963 ],\n",
       "       [0.42857143, 0.28888889],\n",
       "       [0.04761905, 0.15555556],\n",
       "       [0.9047619 , 0.65925926],\n",
       "       [0.52380952, 0.31111111],\n",
       "       [0.57142857, 0.68888889],\n",
       "       [0.04761905, 0.05925926],\n",
       "       [0.52380952, 0.37037037],\n",
       "       [0.69047619, 0.03703704],\n",
       "       [0.        , 0.52592593],\n",
       "       [0.4047619 , 0.47407407],\n",
       "       [0.92857143, 0.13333333],\n",
       "       [0.38095238, 0.42222222],\n",
       "       [0.73809524, 0.17777778],\n",
       "       [0.21428571, 0.11851852],\n",
       "       [0.02380952, 0.40740741],\n",
       "       [0.5       , 0.47407407],\n",
       "       [0.19047619, 0.48888889],\n",
       "       [0.16666667, 0.48148148],\n",
       "       [0.23809524, 0.51851852],\n",
       "       [0.88095238, 0.17777778],\n",
       "       [0.76190476, 0.54074074],\n",
       "       [0.73809524, 0.54074074],\n",
       "       [0.80952381, 1.        ],\n",
       "       [0.4047619 , 0.37037037],\n",
       "       [0.57142857, 0.28888889],\n",
       "       [0.38095238, 0.20740741],\n",
       "       [0.45238095, 0.27407407],\n",
       "       [0.71428571, 0.11111111],\n",
       "       [0.26190476, 0.20740741],\n",
       "       [0.42857143, 0.27407407],\n",
       "       [0.21428571, 0.28888889],\n",
       "       [0.19047619, 0.76296296]])"
      ]
     },
     "execution_count": 58,
     "metadata": {},
     "output_type": "execute_result"
    }
   ],
   "source": [
    "x_train\n"
   ]
  },
  {
   "cell_type": "markdown",
   "id": "8cee6a39",
   "metadata": {},
   "source": [
    "#### BUILD THE LOGISTIC REGRESSION MODEL"
   ]
  },
  {
   "cell_type": "code",
   "execution_count": 59,
   "id": "f184967b",
   "metadata": {},
   "outputs": [],
   "source": [
    "#import the lib\n",
    "from sklearn.linear_model import LogisticRegression"
   ]
  },
  {
   "cell_type": "code",
   "execution_count": 60,
   "id": "82717aae",
   "metadata": {},
   "outputs": [],
   "source": [
    "#create obejct\n",
    "classifier = LogisticRegression()"
   ]
  },
  {
   "cell_type": "code",
   "execution_count": 61,
   "id": "2d953c4c",
   "metadata": {},
   "outputs": [
    {
     "data": {
      "text/html": [
       "<style>#sk-container-id-2 {color: black;}#sk-container-id-2 pre{padding: 0;}#sk-container-id-2 div.sk-toggleable {background-color: white;}#sk-container-id-2 label.sk-toggleable__label {cursor: pointer;display: block;width: 100%;margin-bottom: 0;padding: 0.3em;box-sizing: border-box;text-align: center;}#sk-container-id-2 label.sk-toggleable__label-arrow:before {content: \"▸\";float: left;margin-right: 0.25em;color: #696969;}#sk-container-id-2 label.sk-toggleable__label-arrow:hover:before {color: black;}#sk-container-id-2 div.sk-estimator:hover label.sk-toggleable__label-arrow:before {color: black;}#sk-container-id-2 div.sk-toggleable__content {max-height: 0;max-width: 0;overflow: hidden;text-align: left;background-color: #f0f8ff;}#sk-container-id-2 div.sk-toggleable__content pre {margin: 0.2em;color: black;border-radius: 0.25em;background-color: #f0f8ff;}#sk-container-id-2 input.sk-toggleable__control:checked~div.sk-toggleable__content {max-height: 200px;max-width: 100%;overflow: auto;}#sk-container-id-2 input.sk-toggleable__control:checked~label.sk-toggleable__label-arrow:before {content: \"▾\";}#sk-container-id-2 div.sk-estimator input.sk-toggleable__control:checked~label.sk-toggleable__label {background-color: #d4ebff;}#sk-container-id-2 div.sk-label input.sk-toggleable__control:checked~label.sk-toggleable__label {background-color: #d4ebff;}#sk-container-id-2 input.sk-hidden--visually {border: 0;clip: rect(1px 1px 1px 1px);clip: rect(1px, 1px, 1px, 1px);height: 1px;margin: -1px;overflow: hidden;padding: 0;position: absolute;width: 1px;}#sk-container-id-2 div.sk-estimator {font-family: monospace;background-color: #f0f8ff;border: 1px dotted black;border-radius: 0.25em;box-sizing: border-box;margin-bottom: 0.5em;}#sk-container-id-2 div.sk-estimator:hover {background-color: #d4ebff;}#sk-container-id-2 div.sk-parallel-item::after {content: \"\";width: 100%;border-bottom: 1px solid gray;flex-grow: 1;}#sk-container-id-2 div.sk-label:hover label.sk-toggleable__label {background-color: #d4ebff;}#sk-container-id-2 div.sk-serial::before {content: \"\";position: absolute;border-left: 1px solid gray;box-sizing: border-box;top: 0;bottom: 0;left: 50%;z-index: 0;}#sk-container-id-2 div.sk-serial {display: flex;flex-direction: column;align-items: center;background-color: white;padding-right: 0.2em;padding-left: 0.2em;position: relative;}#sk-container-id-2 div.sk-item {position: relative;z-index: 1;}#sk-container-id-2 div.sk-parallel {display: flex;align-items: stretch;justify-content: center;background-color: white;position: relative;}#sk-container-id-2 div.sk-item::before, #sk-container-id-2 div.sk-parallel-item::before {content: \"\";position: absolute;border-left: 1px solid gray;box-sizing: border-box;top: 0;bottom: 0;left: 50%;z-index: -1;}#sk-container-id-2 div.sk-parallel-item {display: flex;flex-direction: column;z-index: 1;position: relative;background-color: white;}#sk-container-id-2 div.sk-parallel-item:first-child::after {align-self: flex-end;width: 50%;}#sk-container-id-2 div.sk-parallel-item:last-child::after {align-self: flex-start;width: 50%;}#sk-container-id-2 div.sk-parallel-item:only-child::after {width: 0;}#sk-container-id-2 div.sk-dashed-wrapped {border: 1px dashed gray;margin: 0 0.4em 0.5em 0.4em;box-sizing: border-box;padding-bottom: 0.4em;background-color: white;}#sk-container-id-2 div.sk-label label {font-family: monospace;font-weight: bold;display: inline-block;line-height: 1.2em;}#sk-container-id-2 div.sk-label-container {text-align: center;}#sk-container-id-2 div.sk-container {/* jupyter's `normalize.less` sets `[hidden] { display: none; }` but bootstrap.min.css set `[hidden] { display: none !important; }` so we also need the `!important` here to be able to override the default hidden behavior on the sphinx rendered scikit-learn.org. See: https://github.com/scikit-learn/scikit-learn/issues/21755 */display: inline-block !important;position: relative;}#sk-container-id-2 div.sk-text-repr-fallback {display: none;}</style><div id=\"sk-container-id-2\" class=\"sk-top-container\"><div class=\"sk-text-repr-fallback\"><pre>LogisticRegression()</pre><b>In a Jupyter environment, please rerun this cell to show the HTML representation or trust the notebook. <br />On GitHub, the HTML representation is unable to render, please try loading this page with nbviewer.org.</b></div><div class=\"sk-container\" hidden><div class=\"sk-item\"><div class=\"sk-estimator sk-toggleable\"><input class=\"sk-toggleable__control sk-hidden--visually\" id=\"sk-estimator-id-2\" type=\"checkbox\" checked><label for=\"sk-estimator-id-2\" class=\"sk-toggleable__label sk-toggleable__label-arrow\">LogisticRegression</label><div class=\"sk-toggleable__content\"><pre>LogisticRegression()</pre></div></div></div></div></div>"
      ],
      "text/plain": [
       "LogisticRegression()"
      ]
     },
     "execution_count": 61,
     "metadata": {},
     "output_type": "execute_result"
    }
   ],
   "source": [
    "# train the algorithm\n",
    "classifier.fit(x_train, y_train)"
   ]
  },
  {
   "cell_type": "markdown",
   "id": "56d26b08",
   "metadata": {},
   "source": [
    "#### predict ont the test data\n"
   ]
  },
  {
   "cell_type": "code",
   "execution_count": 62,
   "id": "a44f1465",
   "metadata": {},
   "outputs": [],
   "source": [
    "y_pred = classifier.predict(x_test)"
   ]
  },
  {
   "cell_type": "code",
   "execution_count": 63,
   "id": "636d78d3",
   "metadata": {},
   "outputs": [
    {
     "data": {
      "text/plain": [
       "array([0, 0, 0, 0, 0, 0, 0, 1, 0, 0, 0, 0, 0, 0, 0, 0, 0, 0, 1, 0, 0, 1,\n",
       "       0, 1, 0, 1, 0, 0, 0, 0, 0, 0, 1, 0, 0, 0, 0, 0, 0, 0, 0, 0, 0, 0,\n",
       "       1, 0, 0, 1, 0, 1, 1, 0, 0, 0, 1, 0, 0, 0, 0, 0, 0, 1, 0, 0, 0, 1,\n",
       "       0, 0, 0, 0, 1, 0, 0, 0, 0, 0, 0, 0, 1, 1, 1, 1, 0, 0, 1, 0, 0, 1,\n",
       "       0, 0, 0, 1, 0, 0, 0, 0, 0, 0, 1, 1], dtype=int64)"
      ]
     },
     "execution_count": 63,
     "metadata": {},
     "output_type": "execute_result"
    }
   ],
   "source": [
    "y_pred   #predicted result"
   ]
  },
  {
   "cell_type": "code",
   "execution_count": 64,
   "id": "b948c9a9",
   "metadata": {},
   "outputs": [
    {
     "data": {
      "text/plain": [
       "array([0, 0, 0, 0, 0, 0, 0, 1, 0, 0, 0, 0, 0, 0, 0, 0, 0, 0, 1, 0, 0, 1,\n",
       "       0, 1, 0, 1, 0, 0, 0, 0, 0, 1, 1, 0, 0, 0, 0, 0, 0, 1, 0, 0, 0, 0,\n",
       "       1, 0, 0, 1, 0, 1, 1, 0, 0, 0, 1, 1, 0, 0, 1, 0, 0, 1, 0, 1, 0, 1,\n",
       "       0, 0, 0, 0, 1, 0, 0, 1, 0, 0, 0, 0, 1, 1, 1, 0, 0, 0, 1, 1, 0, 1,\n",
       "       1, 0, 0, 1, 0, 0, 0, 1, 0, 1, 1, 1], dtype=int64)"
      ]
     },
     "execution_count": 64,
     "metadata": {},
     "output_type": "execute_result"
    }
   ],
   "source": [
    "y_test.values    #actual result"
   ]
  },
  {
   "cell_type": "code",
   "execution_count": 65,
   "id": "27b6e35f",
   "metadata": {},
   "outputs": [],
   "source": [
    "#NORMALIZATION q zaruri h\n",
    "\n",
    "# without changing the data, we are going to change the data in the same range\n",
    "# removes the effect of mAgnitute"
   ]
  },
  {
   "cell_type": "code",
   "execution_count": null,
   "id": "741caebe",
   "metadata": {},
   "outputs": [],
   "source": []
  },
  {
   "cell_type": "markdown",
   "id": "ad98fcd2",
   "metadata": {},
   "source": [
    "#### EVALUATE THE PERFORMANCE"
   ]
  },
  {
   "cell_type": "code",
   "execution_count": 77,
   "id": "3b1fcc80",
   "metadata": {},
   "outputs": [],
   "source": [
    "from sklearn.metrics import ConfusionMatrixDisplay, classification_report\n",
    "from sklearn.metrics import accuracy_score, confusion_matrix"
   ]
  },
  {
   "cell_type": "code",
   "execution_count": 78,
   "id": "e645e136",
   "metadata": {},
   "outputs": [
    {
     "data": {
      "text/plain": [
       "<sklearn.metrics._plot.confusion_matrix.ConfusionMatrixDisplay at 0x1fc86439e10>"
      ]
     },
     "execution_count": 78,
     "metadata": {},
     "output_type": "execute_result"
    },
    {
     "data": {
      "image/png": "[encoded data removed]",
      "text/plain": [
       "<Figure size 640x480 with 2 Axes>"
      ]
     },
     "metadata": {},
     "output_type": "display_data"
    }
   ],
   "source": [
    "ConfusionMatrixDisplay.from_predictions(y_test, y_pred)"
   ]
  },
  {
   "cell_type": "code",
   "execution_count": 79,
   "id": "ebda057a",
   "metadata": {},
   "outputs": [
    {
     "data": {
      "text/plain": [
       "0.89"
      ]
     },
     "execution_count": 79,
     "metadata": {},
     "output_type": "execute_result"
    }
   ],
   "source": [
    "accuracy_score(y_test, y_pred)"
   ]
  },
  {
   "cell_type": "code",
   "execution_count": 80,
   "id": "9a92cccc",
   "metadata": {},
   "outputs": [
    {
     "data": {
      "text/plain": [
       "array([[67,  1],\n",
       "       [10, 22]], dtype=int64)"
      ]
     },
     "execution_count": 80,
     "metadata": {},
     "output_type": "execute_result"
    }
   ],
   "source": [
    "confusion_matrix(y_test, y_pred)"
   ]
  },
  {
   "cell_type": "code",
   "execution_count": 82,
   "id": "74301ad7",
   "metadata": {},
   "outputs": [
    {
     "name": "stdout",
     "output_type": "stream",
     "text": [
      "              precision    recall  f1-score   support\n",
      "\n",
      "           0       0.87      0.99      0.92        68\n",
      "           1       0.96      0.69      0.80        32\n",
      "\n",
      "    accuracy                           0.89       100\n",
      "   macro avg       0.91      0.84      0.86       100\n",
      "weighted avg       0.90      0.89      0.88       100\n",
      "\n"
     ]
    }
   ],
   "source": [
    "print(classification_report(y_test, y_pred))"
   ]
  },
  {
   "cell_type": "code",
   "execution_count": 85,
   "id": "cc8ebcd5",
   "metadata": {},
   "outputs": [
    {
     "data": {
      "text/plain": [
       "0.9850746268656716"
      ]
     },
     "execution_count": 85,
     "metadata": {},
     "output_type": "execute_result"
    }
   ],
   "source": [
    " # recall -> individual class accuracy\n",
    "#     recall of 0\n",
    "r0 = 66/67\n",
    "r0"
   ]
  },
  {
   "cell_type": "code",
   "execution_count": 86,
   "id": "511ac259",
   "metadata": {},
   "outputs": [
    {
     "data": {
      "text/plain": [
       "0.6875"
      ]
     },
     "execution_count": 86,
     "metadata": {},
     "output_type": "execute_result"
    }
   ],
   "source": [
    "#     recall of 1\n",
    "\n",
    "r1 = 22/32\n",
    "r1"
   ]
  },
  {
   "cell_type": "code",
   "execution_count": 91,
   "id": "00a94397",
   "metadata": {},
   "outputs": [
    {
     "data": {
      "text/plain": [
       "0.8701298701298701"
      ]
     },
     "execution_count": 91,
     "metadata": {},
     "output_type": "execute_result"
    }
   ],
   "source": [
    "#precison - class 0 -postive predicitove value(ppv)\n",
    "\n",
    "p0 = 67/77\n",
    "p0"
   ]
  },
  {
   "cell_type": "code",
   "execution_count": 92,
   "id": "1ad92a34",
   "metadata": {},
   "outputs": [
    {
     "data": {
      "text/plain": [
       "0.9565217391304348"
      ]
     },
     "execution_count": 92,
     "metadata": {},
     "output_type": "execute_result"
    }
   ],
   "source": [
    "#precison - class 1 - negative predicitove value(npv)\n",
    "\n",
    "p1 = 22/23\n",
    "p1"
   ]
  },
  {
   "cell_type": "code",
   "execution_count": 93,
   "id": "cfef34af",
   "metadata": {},
   "outputs": [],
   "source": [
    "# f1 score --> avg of precison and recall(harmonic mean)\n",
    "new1 = [[23,  25000]]\n",
    "new2 =[[48, 123000]]"
   ]
  },
  {
   "cell_type": "code",
   "execution_count": 100,
   "id": "11137477",
   "metadata": {},
   "outputs": [],
   "source": [
    "import warnings\n",
    "warnings.filterwarnings('ignore')"
   ]
  },
  {
   "cell_type": "code",
   "execution_count": 101,
   "id": "88b0cc39",
   "metadata": {
    "scrolled": true
   },
   "outputs": [
    {
     "data": {
      "text/plain": [
       "array([0], dtype=int64)"
      ]
     },
     "execution_count": 101,
     "metadata": {},
     "output_type": "execute_result"
    }
   ],
   "source": [
    "classifier.predict(scaler.transform(new1))"
   ]
  },
  {
   "cell_type": "code",
   "execution_count": 102,
   "id": "3a4aab4f",
   "metadata": {},
   "outputs": [
    {
     "data": {
      "text/plain": [
       "array([[0.96508964, 0.03491036]])"
      ]
     },
     "execution_count": 102,
     "metadata": {},
     "output_type": "execute_result"
    }
   ],
   "source": [
    "classifier.predict_proba(scaler.transform(new1))"
   ]
  },
  {
   "cell_type": "code",
   "execution_count": 105,
   "id": "caa131e8",
   "metadata": {},
   "outputs": [
    {
     "data": {
      "text/plain": [
       "array([1], dtype=int64)"
      ]
     },
     "execution_count": 105,
     "metadata": {},
     "output_type": "execute_result"
    }
   ],
   "source": [
    "classifier.predict(scaler.transform(new2))\n"
   ]
  },
  {
   "cell_type": "code",
   "execution_count": 104,
   "id": "607a86f7",
   "metadata": {},
   "outputs": [
    {
     "data": {
      "text/plain": [
       "array([[0.19234625, 0.80765375]])"
      ]
     },
     "execution_count": 104,
     "metadata": {},
     "output_type": "execute_result"
    }
   ],
   "source": [
    "classifier.predict_proba(scaler.transform(new2))"
   ]
  },
  {
   "cell_type": "code",
   "execution_count": 106,
   "id": "35953a0f",
   "metadata": {},
   "outputs": [],
   "source": [
    "# DECISiON TREE "
   ]
  },
  {
   "cell_type": "code",
   "execution_count": null,
   "id": "cd479267",
   "metadata": {},
   "outputs": [],
   "source": []
  }
 ],
 "metadata": {
  "kernelspec": {
   "display_name": "Python 3 (ipykernel)",
   "language": "python",
   "name": "python3"
  },
  "language_info": {
   "codemirror_mode": {
    "name": "ipython",
    "version": 3
   },
   "file_extension": ".py",
   "mimetype": "text/x-python",
   "name": "python",
   "nbconvert_exporter": "python",
   "pygments_lexer": "ipython3",
   "version": "3.11.5"
  }
 },
 "nbformat": 4,
 "nbformat_minor": 5
}
