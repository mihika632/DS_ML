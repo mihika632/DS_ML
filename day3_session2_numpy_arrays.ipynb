{
 "cells": [
  {
   "cell_type": "markdown",
   "id": "b474442c",
   "metadata": {},
   "source": [
    "# NUMPY MODULE`\n",
    "import numpy as n"
   ]
  },
  {
   "cell_type": "code",
   "execution_count": 24,
   "id": "0d6cec30",
   "metadata": {},
   "outputs": [],
   "source": [
    "import numpy as n\n",
    "a1= numpy.array([12,123,4,5,6,77])"
   ]
  },
  {
   "cell_type": "code",
   "execution_count": 25,
   "id": "d4579ad8",
   "metadata": {},
   "outputs": [
    {
     "name": "stdout",
     "output_type": "stream",
     "text": [
      "[ 12 123   4   5   6  77]\n"
     ]
    }
   ],
   "source": [
    "\n",
    "print(a1)"
   ]
  },
  {
   "cell_type": "code",
   "execution_count": 26,
   "id": "86154457",
   "metadata": {},
   "outputs": [
    {
     "data": {
      "text/plain": [
       "array([ 12, 123,   4,   5,   6,  77])"
      ]
     },
     "execution_count": 26,
     "metadata": {},
     "output_type": "execute_result"
    }
   ],
   "source": [
    "a1"
   ]
  },
  {
   "cell_type": "code",
   "execution_count": 27,
   "id": "fefaa26e",
   "metadata": {},
   "outputs": [
    {
     "data": {
      "text/plain": [
       "numpy.ndarray"
      ]
     },
     "execution_count": 27,
     "metadata": {},
     "output_type": "execute_result"
    }
   ],
   "source": [
    "type(a1)"
   ]
  },
  {
   "cell_type": "code",
   "execution_count": 28,
   "id": "a4f54baf",
   "metadata": {},
   "outputs": [],
   "source": [
    "a1 = n.array([1,2,3,4,5,6,7,8,9,10])"
   ]
  },
  {
   "cell_type": "code",
   "execution_count": 29,
   "id": "f9a2d0a5",
   "metadata": {},
   "outputs": [
    {
     "data": {
      "text/plain": [
       "array([ 1,  2,  3,  4,  5,  6,  7,  8,  9, 10])"
      ]
     },
     "execution_count": 29,
     "metadata": {},
     "output_type": "execute_result"
    }
   ],
   "source": [
    "a1"
   ]
  },
  {
   "cell_type": "code",
   "execution_count": 30,
   "id": "e0cdfb50",
   "metadata": {},
   "outputs": [
    {
     "name": "stdout",
     "output_type": "stream",
     "text": [
      "[ 1  2  3  4  5  6  7  8  9 10]\n"
     ]
    }
   ],
   "source": [
    "print(a1)"
   ]
  },
  {
   "cell_type": "code",
   "execution_count": 31,
   "id": "392c89ce",
   "metadata": {},
   "outputs": [
    {
     "data": {
      "text/plain": [
       "numpy.ndarray"
      ]
     },
     "execution_count": 31,
     "metadata": {},
     "output_type": "execute_result"
    }
   ],
   "source": [
    "type(a1)"
   ]
  },
  {
   "cell_type": "code",
   "execution_count": 32,
   "id": "719d872a",
   "metadata": {},
   "outputs": [],
   "source": [
    "a2 = n.array([2,3.4,'nope'])"
   ]
  },
  {
   "cell_type": "code",
   "execution_count": 33,
   "id": "1f59ea28",
   "metadata": {},
   "outputs": [
    {
     "data": {
      "text/plain": [
       "array(['2', '3.4', 'nope'], dtype='<U32')"
      ]
     },
     "execution_count": 33,
     "metadata": {},
     "output_type": "execute_result"
    }
   ],
   "source": [
    "a2"
   ]
  },
  {
   "cell_type": "code",
   "execution_count": 34,
   "id": "fe4343be",
   "metadata": {},
   "outputs": [
    {
     "name": "stdout",
     "output_type": "stream",
     "text": [
      "['2' '3.4' 'nope']\n"
     ]
    }
   ],
   "source": [
    "print(a2)"
   ]
  },
  {
   "cell_type": "code",
   "execution_count": 35,
   "id": "80312876",
   "metadata": {},
   "outputs": [
    {
     "data": {
      "text/plain": [
       "numpy.ndarray"
      ]
     },
     "execution_count": 35,
     "metadata": {},
     "output_type": "execute_result"
    }
   ],
   "source": [
    "type(a2)"
   ]
  },
  {
   "cell_type": "code",
   "execution_count": 36,
   "id": "c064d6bc",
   "metadata": {},
   "outputs": [
    {
     "name": "stdout",
     "output_type": "stream",
     "text": [
      "3.11 µs ± 178 ns per loop (mean ± std. dev. of 7 runs, 100,000 loops each)\n"
     ]
    }
   ],
   "source": [
    "%%timeit\n",
    "a2 = n.array([2,3.4,'nope'])"
   ]
  },
  {
   "cell_type": "code",
   "execution_count": 37,
   "id": "1270cd08",
   "metadata": {},
   "outputs": [
    {
     "data": {
      "text/plain": [
       "dtype('<U32')"
      ]
     },
     "execution_count": 37,
     "metadata": {},
     "output_type": "execute_result"
    }
   ],
   "source": [
    "a2.dtype"
   ]
  },
  {
   "cell_type": "code",
   "execution_count": 38,
   "id": "b79c74f8",
   "metadata": {},
   "outputs": [
    {
     "data": {
      "text/plain": [
       "dtype('int32')"
      ]
     },
     "execution_count": 38,
     "metadata": {},
     "output_type": "execute_result"
    }
   ],
   "source": [
    "a1.dtype"
   ]
  },
  {
   "cell_type": "code",
   "execution_count": 40,
   "id": "c3312c9e",
   "metadata": {},
   "outputs": [
    {
     "data": {
      "text/plain": [
       "(3,)"
      ]
     },
     "execution_count": 40,
     "metadata": {},
     "output_type": "execute_result"
    }
   ],
   "source": [
    "a2.shape "
   ]
  },
  {
   "cell_type": "code",
   "execution_count": 41,
   "id": "d907e834",
   "metadata": {},
   "outputs": [
    {
     "data": {
      "text/plain": [
       "1"
      ]
     },
     "execution_count": 41,
     "metadata": {},
     "output_type": "execute_result"
    }
   ],
   "source": [
    "a2.ndim   #dimension of array"
   ]
  },
  {
   "cell_type": "code",
   "execution_count": 48,
   "id": "e6faf994",
   "metadata": {},
   "outputs": [],
   "source": [
    "a1 = a1 + 15"
   ]
  },
  {
   "cell_type": "code",
   "execution_count": 49,
   "id": "af079f5e",
   "metadata": {},
   "outputs": [
    {
     "data": {
      "text/plain": [
       "array([19, 20, 21, 22, 23, 24, 25])"
      ]
     },
     "execution_count": 49,
     "metadata": {},
     "output_type": "execute_result"
    }
   ],
   "source": [
    "a1[3:]"
   ]
  },
  {
   "cell_type": "markdown",
   "id": "c90b46c9",
   "metadata": {},
   "source": [
    "# linear equations"
   ]
  },
  {
   "cell_type": "code",
   "execution_count": 50,
   "id": "e0e35ac0",
   "metadata": {},
   "outputs": [],
   "source": [
    "x = n.array([1,2,3,4,5])"
   ]
  },
  {
   "cell_type": "code",
   "execution_count": 52,
   "id": "52c69153",
   "metadata": {},
   "outputs": [
    {
     "data": {
      "text/plain": [
       "array([16.4, 17.4, 18.4, 19.4, 20.4])"
      ]
     },
     "execution_count": 52,
     "metadata": {},
     "output_type": "execute_result"
    }
   ],
   "source": [
    "new1 = x + 3.4 + 12\n",
    "new1"
   ]
  },
  {
   "cell_type": "code",
   "execution_count": 53,
   "id": "6dfd24cc",
   "metadata": {},
   "outputs": [
    {
     "name": "stdout",
     "output_type": "stream",
     "text": [
      "[16.4 17.4 18.4 19.4 20.4]\n"
     ]
    }
   ],
   "source": [
    "print(new1)"
   ]
  },
  {
   "cell_type": "code",
   "execution_count": 55,
   "id": "7f3b7900",
   "metadata": {},
   "outputs": [
    {
     "data": {
      "text/plain": [
       "array([0, 1, 2, 3, 4, 5, 6, 7, 8, 9])"
      ]
     },
     "execution_count": 55,
     "metadata": {},
     "output_type": "execute_result"
    }
   ],
   "source": [
    "n.arange(10)    #alike range functions"
   ]
  },
  {
   "cell_type": "code",
   "execution_count": 56,
   "id": "f9ebbcd3",
   "metadata": {},
   "outputs": [
    {
     "name": "stdout",
     "output_type": "stream",
     "text": [
      "<module 'numpy' from 'C:\\\\Users\\\\mihik\\\\anaconda3\\\\Lib\\\\site-packages\\\\numpy\\\\__init__.py'>\n"
     ]
    }
   ],
   "source": [
    "print(n)"
   ]
  },
  {
   "cell_type": "code",
   "execution_count": 58,
   "id": "dcf512e9",
   "metadata": {},
   "outputs": [
    {
     "data": {
      "text/plain": [
       "array([0, 1, 2, 3, 4, 5, 6, 7, 8, 9])"
      ]
     },
     "execution_count": 58,
     "metadata": {},
     "output_type": "execute_result"
    }
   ],
   "source": [
    "n.arange(10)"
   ]
  },
  {
   "cell_type": "code",
   "execution_count": 60,
   "id": "e9914ca5",
   "metadata": {},
   "outputs": [
    {
     "data": {
      "text/plain": [
       "array([0, 1])"
      ]
     },
     "execution_count": 60,
     "metadata": {},
     "output_type": "execute_result"
    }
   ],
   "source": [
    "n.arange(2)"
   ]
  },
  {
   "cell_type": "code",
   "execution_count": 62,
   "id": "a6cad132",
   "metadata": {},
   "outputs": [],
   "source": [
    "a1 = n.arange(10)"
   ]
  },
  {
   "cell_type": "code",
   "execution_count": 63,
   "id": "4e947030",
   "metadata": {},
   "outputs": [
    {
     "name": "stdout",
     "output_type": "stream",
     "text": [
      "[0 1 2 3 4 5 6 7 8 9]\n"
     ]
    }
   ],
   "source": [
    "print(a1)"
   ]
  },
  {
   "cell_type": "code",
   "execution_count": 65,
   "id": "f22b3a72",
   "metadata": {},
   "outputs": [
    {
     "data": {
      "text/plain": [
       "array([5, 6, 7, 8, 9])"
      ]
     },
     "execution_count": 65,
     "metadata": {},
     "output_type": "execute_result"
    }
   ],
   "source": [
    "n.arange(5,10)"
   ]
  },
  {
   "cell_type": "code",
   "execution_count": 68,
   "id": "1bd5c7ea",
   "metadata": {},
   "outputs": [
    {
     "data": {
      "text/plain": [
       "array([-5. , -4.5, -4. , -3.5, -3. , -2.5, -2. , -1.5, -1. , -0.5,  0. ,\n",
       "        0.5,  1. ,  1.5,  2. ,  2.5,  3. ,  3.5,  4. ,  4.5])"
      ]
     },
     "execution_count": 68,
     "metadata": {},
     "output_type": "execute_result"
    }
   ],
   "source": [
    "n.arange(-5,5,0.5)"
   ]
  },
  {
   "cell_type": "code",
   "execution_count": 70,
   "id": "910b83b8",
   "metadata": {},
   "outputs": [
    {
     "data": {
      "text/plain": [
       "array([0., 0., 0., 0., 0., 0., 0., 0., 0., 0.])"
      ]
     },
     "execution_count": 70,
     "metadata": {},
     "output_type": "execute_result"
    }
   ],
   "source": [
    "n.zeros(10)"
   ]
  },
  {
   "cell_type": "code",
   "execution_count": 71,
   "id": "604133ce",
   "metadata": {},
   "outputs": [
    {
     "data": {
      "text/plain": [
       "array([1., 1., 1., 1., 1., 1., 1., 1., 1., 1.])"
      ]
     },
     "execution_count": 71,
     "metadata": {},
     "output_type": "execute_result"
    }
   ],
   "source": [
    "n.ones(10)"
   ]
  },
  {
   "cell_type": "code",
   "execution_count": 92,
   "id": "576804e6",
   "metadata": {},
   "outputs": [],
   "source": [
    "arr2d = n.array([[2,3,1] ,[2,3,1], [3,4,1], [3,4,5]])"
   ]
  },
  {
   "cell_type": "code",
   "execution_count": 93,
   "id": "764f00cf",
   "metadata": {},
   "outputs": [
    {
     "name": "stdout",
     "output_type": "stream",
     "text": [
      "[[2 3 1]\n",
      " [2 3 1]\n",
      " [3 4 1]\n",
      " [3 4 5]]\n"
     ]
    }
   ],
   "source": [
    "print(arr2d)"
   ]
  },
  {
   "cell_type": "code",
   "execution_count": 94,
   "id": "3555c8d9",
   "metadata": {},
   "outputs": [
    {
     "data": {
      "text/plain": [
       "(4, 3)"
      ]
     },
     "execution_count": 94,
     "metadata": {},
     "output_type": "execute_result"
    }
   ],
   "source": [
    "arr2d.shape"
   ]
  },
  {
   "cell_type": "code",
   "execution_count": 95,
   "id": "4ada362c",
   "metadata": {},
   "outputs": [
    {
     "data": {
      "text/plain": [
       "2"
      ]
     },
     "execution_count": 95,
     "metadata": {},
     "output_type": "execute_result"
    }
   ],
   "source": [
    "arr2d.ndim"
   ]
  },
  {
   "cell_type": "code",
   "execution_count": 96,
   "id": "b7c6ff26",
   "metadata": {},
   "outputs": [
    {
     "data": {
      "text/plain": [
       "array([2, 3, 1, 2, 3, 1, 3, 4, 1, 3, 4, 5])"
      ]
     },
     "execution_count": 96,
     "metadata": {},
     "output_type": "execute_result"
    }
   ],
   "source": [
    "arr2d.flatten()"
   ]
  },
  {
   "cell_type": "code",
   "execution_count": 97,
   "id": "6bb967c8",
   "metadata": {},
   "outputs": [
    {
     "data": {
      "text/plain": [
       "(12,)"
      ]
     },
     "execution_count": 97,
     "metadata": {},
     "output_type": "execute_result"
    }
   ],
   "source": [
    "arr2d.flatten().shape"
   ]
  },
  {
   "cell_type": "code",
   "execution_count": 98,
   "id": "f5f38f36",
   "metadata": {},
   "outputs": [
    {
     "data": {
      "text/plain": [
       "12"
      ]
     },
     "execution_count": 98,
     "metadata": {},
     "output_type": "execute_result"
    }
   ],
   "source": [
    "arr2d.size"
   ]
  },
  {
   "cell_type": "code",
   "execution_count": 107,
   "id": "bb3781c1",
   "metadata": {},
   "outputs": [
    {
     "data": {
      "text/plain": [
       "array([[2, 3, 1, 2, 3, 1],\n",
       "       [3, 4, 1, 3, 4, 5]])"
      ]
     },
     "execution_count": 107,
     "metadata": {},
     "output_type": "execute_result"
    }
   ],
   "source": [
    "arr2d.reshape(2,\n",
    "              -1)"
   ]
  },
  {
   "cell_type": "code",
   "execution_count": 108,
   "id": "060d7e4f",
   "metadata": {},
   "outputs": [
    {
     "data": {
      "text/plain": [
       "array([[2, 3, 1, 2, 3, 1, 3, 4, 1, 3, 4, 5]])"
      ]
     },
     "execution_count": 108,
     "metadata": {},
     "output_type": "execute_result"
    }
   ],
   "source": [
    "arr2d.reshape(1,-1)"
   ]
  },
  {
   "cell_type": "code",
   "execution_count": 109,
   "id": "93935d6d",
   "metadata": {},
   "outputs": [
    {
     "data": {
      "text/plain": [
       "array([[2, 3, 1],\n",
       "       [2, 3, 1],\n",
       "       [3, 4, 1],\n",
       "       [3, 4, 5]])"
      ]
     },
     "execution_count": 109,
     "metadata": {},
     "output_type": "execute_result"
    }
   ],
   "source": [
    "arr2d.reshape(4,-1)"
   ]
  },
  {
   "cell_type": "code",
   "execution_count": 102,
   "id": "15d93260",
   "metadata": {},
   "outputs": [
    {
     "data": {
      "text/plain": [
       "array([[2, 3, 1, 2, 3, 1],\n",
       "       [3, 4, 1, 3, 4, 5]])"
      ]
     },
     "execution_count": 102,
     "metadata": {},
     "output_type": "execute_result"
    }
   ],
   "source": [
    "arr2d.reshape(2,-1)"
   ]
  },
  {
   "cell_type": "code",
   "execution_count": 103,
   "id": "4c8d8609",
   "metadata": {},
   "outputs": [
    {
     "data": {
      "text/plain": [
       "array([[2, 3, 1, 2],\n",
       "       [3, 1, 3, 4],\n",
       "       [1, 3, 4, 5]])"
      ]
     },
     "execution_count": 103,
     "metadata": {},
     "output_type": "execute_result"
    }
   ],
   "source": [
    "arr2d.reshape(3,-1)"
   ]
  },
  {
   "cell_type": "code",
   "execution_count": 105,
   "id": "a8b66db7",
   "metadata": {},
   "outputs": [
    {
     "data": {
      "text/plain": [
       "array([[[2, 3, 1],\n",
       "        [2, 3, 1]],\n",
       "\n",
       "       [[3, 4, 1],\n",
       "        [3, 4, 5]]])"
      ]
     },
     "execution_count": 105,
     "metadata": {},
     "output_type": "execute_result"
    }
   ],
   "source": [
    "arr2d.reshape(2,2,-1)"
   ]
  },
  {
   "cell_type": "code",
   "execution_count": 110,
   "id": "553c0694",
   "metadata": {},
   "outputs": [
    {
     "data": {
      "text/plain": [
       "3"
      ]
     },
     "execution_count": 110,
     "metadata": {},
     "output_type": "execute_result"
    }
   ],
   "source": [
    "arr2d.reshape(2,2,-1).ndim"
   ]
  },
  {
   "cell_type": "code",
   "execution_count": 135,
   "id": "3c4bc7e9",
   "metadata": {},
   "outputs": [],
   "source": [
    "ar2d = n.array([[[10,11,12] ,[7,8,9]], [[4,5,6], [1,2,3]]])"
   ]
  },
  {
   "cell_type": "code",
   "execution_count": 136,
   "id": "228c71d5",
   "metadata": {},
   "outputs": [
    {
     "name": "stdout",
     "output_type": "stream",
     "text": [
      "[[[10 11 12]\n",
      "  [ 7  8  9]]\n",
      "\n",
      " [[ 4  5  6]\n",
      "  [ 1  2  3]]]\n"
     ]
    }
   ],
   "source": [
    "print(ar2d)"
   ]
  },
  {
   "cell_type": "code",
   "execution_count": 137,
   "id": "1a6cd101",
   "metadata": {},
   "outputs": [
    {
     "data": {
      "text/plain": [
       "3"
      ]
     },
     "execution_count": 137,
     "metadata": {},
     "output_type": "execute_result"
    }
   ],
   "source": [
    "ar2d.ndim"
   ]
  },
  {
   "cell_type": "markdown",
   "id": "fe8c7703",
   "metadata": {},
   "source": []
  },
  {
   "cell_type": "code",
   "execution_count": 138,
   "id": "961691a6",
   "metadata": {},
   "outputs": [
    {
     "data": {
      "text/plain": [
       "8"
      ]
     },
     "execution_count": 138,
     "metadata": {},
     "output_type": "execute_result"
    }
   ],
   "source": [
    "ar2d[0][1][1]"
   ]
  },
  {
   "cell_type": "code",
   "execution_count": 139,
   "id": "c8f061de",
   "metadata": {},
   "outputs": [
    {
     "data": {
      "text/plain": [
       "array([[[10, 11, 12],\n",
       "        [ 7,  8,  9]],\n",
       "\n",
       "       [[ 4,  5,  6],\n",
       "        [ 1,  2,  3]]])"
      ]
     },
     "execution_count": 139,
     "metadata": {},
     "output_type": "execute_result"
    }
   ],
   "source": [
    "ar2d[0:3]"
   ]
  },
  {
   "cell_type": "code",
   "execution_count": 140,
   "id": "3ec886ad",
   "metadata": {},
   "outputs": [
    {
     "data": {
      "text/plain": [
       "array([[[10, 11, 12]],\n",
       "\n",
       "       [[ 4,  5,  6]]])"
      ]
     },
     "execution_count": 140,
     "metadata": {},
     "output_type": "execute_result"
    }
   ],
   "source": [
    "ar2d[0:3,0:1]"
   ]
  },
  {
   "cell_type": "code",
   "execution_count": 142,
   "id": "181cc6a6",
   "metadata": {},
   "outputs": [
    {
     "data": {
      "text/plain": [
       "array([[[10, 11, 12]],\n",
       "\n",
       "       [[ 4,  5,  6]]])"
      ]
     },
     "execution_count": 142,
     "metadata": {},
     "output_type": "execute_result"
    }
   ],
   "source": [
    "ar2d[0:2,0:1]"
   ]
  },
  {
   "cell_type": "code",
   "execution_count": 147,
   "id": "3dc67492",
   "metadata": {},
   "outputs": [
    {
     "data": {
      "text/plain": [
       "5"
      ]
     },
     "execution_count": 147,
     "metadata": {},
     "output_type": "execute_result"
    }
   ],
   "source": [
    "ar2d[1][0][1]"
   ]
  },
  {
   "cell_type": "code",
   "execution_count": 157,
   "id": "a195105b",
   "metadata": {},
   "outputs": [],
   "source": [
    "arr = n.array([1,-7,2,3,4,5,6])"
   ]
  },
  {
   "cell_type": "code",
   "execution_count": 158,
   "id": "b2764d45",
   "metadata": {},
   "outputs": [
    {
     "data": {
      "text/plain": [
       "array([-7,  1,  2,  3,  4,  5,  6])"
      ]
     },
     "execution_count": 158,
     "metadata": {},
     "output_type": "execute_result"
    }
   ],
   "source": [
    "n.unique(arr)"
   ]
  },
  {
   "cell_type": "code",
   "execution_count": 159,
   "id": "ff6a6588",
   "metadata": {},
   "outputs": [
    {
     "data": {
      "text/plain": [
       "2.0"
      ]
     },
     "execution_count": 159,
     "metadata": {},
     "output_type": "execute_result"
    }
   ],
   "source": [
    "n.mean(arr)"
   ]
  },
  {
   "cell_type": "code",
   "execution_count": 160,
   "id": "e2959fb4",
   "metadata": {},
   "outputs": [
    {
     "data": {
      "text/plain": [
       "6"
      ]
     },
     "execution_count": 160,
     "metadata": {},
     "output_type": "execute_result"
    }
   ],
   "source": [
    "n.max(arr)"
   ]
  },
  {
   "cell_type": "code",
   "execution_count": 161,
   "id": "a2a58263",
   "metadata": {},
   "outputs": [
    {
     "data": {
      "text/plain": [
       "-7"
      ]
     },
     "execution_count": 161,
     "metadata": {},
     "output_type": "execute_result"
    }
   ],
   "source": [
    "n.min(arr)"
   ]
  },
  {
   "cell_type": "code",
   "execution_count": 162,
   "id": "fd582ea0",
   "metadata": {},
   "outputs": [
    {
     "data": {
      "text/plain": [
       "array([1, 7, 2, 3, 4, 5, 6])"
      ]
     },
     "execution_count": 162,
     "metadata": {},
     "output_type": "execute_result"
    }
   ],
   "source": [
    "n.abs(arr)"
   ]
  },
  {
   "cell_type": "markdown",
   "id": "495c02c9",
   "metadata": {},
   "source": []
  },
  {
   "cell_type": "code",
   "execution_count": 163,
   "id": "b82d2877",
   "metadata": {},
   "outputs": [
    {
     "data": {
      "text/plain": [
       "-7"
      ]
     },
     "execution_count": 163,
     "metadata": {},
     "output_type": "execute_result"
    }
   ],
   "source": [
    "n.min(arr)"
   ]
  },
  {
   "cell_type": "code",
   "execution_count": 164,
   "id": "dfcb2468",
   "metadata": {},
   "outputs": [
    {
     "data": {
      "text/plain": [
       "<function numpy.histogram(a, bins=10, range=None, density=None, weights=None)>"
      ]
     },
     "execution_count": 164,
     "metadata": {},
     "output_type": "execute_result"
    }
   ],
   "source": [
    "n.histogram"
   ]
  },
  {
   "cell_type": "code",
   "execution_count": null,
   "id": "4c3e8bae",
   "metadata": {},
   "outputs": [],
   "source": []
  }
 ],
 "metadata": {
  "kernelspec": {
   "display_name": "Python 3 (ipykernel)",
   "language": "python",
   "name": "python3"
  },
  "language_info": {
   "codemirror_mode": {
    "name": "ipython",
    "version": 3
   },
   "file_extension": ".py",
   "mimetype": "text/x-python",
   "name": "python",
   "nbconvert_exporter": "python",
   "pygments_lexer": "ipython3",
   "version": "3.11.5"
  }
 },
 "nbformat": 4,
 "nbformat_minor": 5
}
