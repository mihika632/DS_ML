{
 "cells": [
  {
   "cell_type": "code",
   "execution_count": 2,
   "id": "8a2e4d56",
   "metadata": {},
   "outputs": [],
   "source": [
    "class Employee():\n",
    "    pass "
   ]
  },
  {
   "cell_type": "code",
   "execution_count": 3,
   "id": "ac4ad96d",
   "metadata": {},
   "outputs": [],
   "source": [
    "emp1 = Employee()  #instance of a class\n",
    "emp2 = Employee()"
   ]
  },
  {
   "cell_type": "code",
   "execution_count": 4,
   "id": "ea537e90",
   "metadata": {},
   "outputs": [
    {
     "data": {
      "text/plain": [
       "<__main__.Employee at 0x22db4b6ee90>"
      ]
     },
     "execution_count": 4,
     "metadata": {},
     "output_type": "execute_result"
    }
   ],
   "source": [
    "emp1"
   ]
  },
  {
   "cell_type": "code",
   "execution_count": 5,
   "id": "eae6bb52",
   "metadata": {},
   "outputs": [
    {
     "data": {
      "text/plain": [
       "<__main__.Employee at 0x22db4b6f810>"
      ]
     },
     "execution_count": 5,
     "metadata": {},
     "output_type": "execute_result"
    }
   ],
   "source": [
    "emp2"
   ]
  },
  {
   "cell_type": "code",
   "execution_count": 7,
   "id": "43103759",
   "metadata": {},
   "outputs": [
    {
     "data": {
      "text/plain": [
       "(<__main__.Employee at 0x22db4b6ee90>, <__main__.Employee at 0x22db4b6f810>)"
      ]
     },
     "execution_count": 7,
     "metadata": {},
     "output_type": "execute_result"
    }
   ],
   "source": [
    "emp1 ,emp2"
   ]
  },
  {
   "cell_type": "code",
   "execution_count": 8,
   "id": "6e1833fe",
   "metadata": {},
   "outputs": [
    {
     "name": "stdout",
     "output_type": "stream",
     "text": [
      "<__main__.Employee object at 0x0000022DB4B6EE90> <__main__.Employee object at 0x0000022DB4B6F810>\n"
     ]
    }
   ],
   "source": [
    "print(emp1, emp2)"
   ]
  },
  {
   "cell_type": "code",
   "execution_count": 9,
   "id": "02c81e96",
   "metadata": {},
   "outputs": [],
   "source": [
    "emp1.first = 'MIHIKA'   #instance variable\n",
    "emp1.last = 'RAJPUT'\n",
    "emp1.expectations = 'x100'\n"
   ]
  },
  {
   "cell_type": "code",
   "execution_count": 11,
   "id": "bfb49ff0",
   "metadata": {},
   "outputs": [],
   "source": [
    "emp2.first = 'MANASWI'\n",
    "emp2.last = 'DEVEKAR'\n",
    "emp2.expectations = 'x1e9'\n"
   ]
  },
  {
   "cell_type": "code",
   "execution_count": 12,
   "id": "2ca25e17",
   "metadata": {},
   "outputs": [
    {
     "name": "stdout",
     "output_type": "stream",
     "text": [
      "MIHIKA\n"
     ]
    }
   ],
   "source": [
    "print(emp1.first)"
   ]
  },
  {
   "cell_type": "code",
   "execution_count": 13,
   "id": "a4fa322d",
   "metadata": {},
   "outputs": [
    {
     "name": "stdout",
     "output_type": "stream",
     "text": [
      "x1e9\n"
     ]
    }
   ],
   "source": [
    "print(emp2.expectations)"
   ]
  },
  {
   "cell_type": "code",
   "execution_count": 40,
   "id": "053be930",
   "metadata": {},
   "outputs": [],
   "source": [
    "class Employees():\n",
    "    def __init__(self, first, last, expectations):\n",
    "        self.first = first\n",
    "        self.last = last\n",
    "        self.expectations = expectations \n",
    "        \n",
    "    def msg(self):\n",
    "        print(self.first + ' ' + 'has very high expectations!')"
   ]
  },
  {
   "cell_type": "code",
   "execution_count": 41,
   "id": "353c80a1",
   "metadata": {},
   "outputs": [],
   "source": [
    "e1 = Employees('MIHIKA','RAJPUT', 'x100')\n",
    "e2 = Employees('Addy','Reily', 'x123')"
   ]
  },
  {
   "cell_type": "code",
   "execution_count": 42,
   "id": "1e4433ae",
   "metadata": {
    "scrolled": true
   },
   "outputs": [
    {
     "name": "stdout",
     "output_type": "stream",
     "text": [
      "MIHIKA\n"
     ]
    }
   ],
   "source": [
    "print(e1.first)"
   ]
  },
  {
   "cell_type": "markdown",
   "id": "4d621266",
   "metadata": {},
   "source": [
    "e1.msg()"
   ]
  },
  {
   "cell_type": "code",
   "execution_count": 43,
   "id": "877d118d",
   "metadata": {},
   "outputs": [
    {
     "name": "stdout",
     "output_type": "stream",
     "text": [
      "MIHIKA has very high expectations!\n"
     ]
    }
   ],
   "source": [
    "e1.msg()"
   ]
  },
  {
   "cell_type": "code",
   "execution_count": 45,
   "id": "35f6e8d2",
   "metadata": {},
   "outputs": [
    {
     "name": "stdout",
     "output_type": "stream",
     "text": [
      "Addy has very high expectations!\n",
      "None\n"
     ]
    }
   ],
   "source": [
    "print(e2.msg())"
   ]
  },
  {
   "cell_type": "markdown",
   "id": "595708db",
   "metadata": {},
   "source": [
    "# ENCAPSULATION"
   ]
  },
  {
   "cell_type": "code",
   "execution_count": 46,
   "id": "12b83976",
   "metadata": {},
   "outputs": [],
   "source": [
    "class Employees():\n",
    "    def __init__(self, first, last, expectations):\n",
    "        self.first = first\n",
    "        self.last = last\n",
    "        self.__expectations = expectations \n",
    "        \n",
    "    def msg(self):\n",
    "        print(self.first + ' ' + 'has very high expectations!')"
   ]
  },
  {
   "cell_type": "code",
   "execution_count": 47,
   "id": "288bcdfa",
   "metadata": {},
   "outputs": [
    {
     "ename": "AttributeError",
     "evalue": "'Employees' object has no attribute 'salary'",
     "output_type": "error",
     "traceback": [
      "\u001b[1;31m---------------------------------------------------------------------------\u001b[0m",
      "\u001b[1;31mAttributeError\u001b[0m                            Traceback (most recent call last)",
      "Cell \u001b[1;32mIn[47], line 1\u001b[0m\n\u001b[1;32m----> 1\u001b[0m e1\u001b[38;5;241m.\u001b[39msalary\n",
      "\u001b[1;31mAttributeError\u001b[0m: 'Employees' object has no attribute 'salary'"
     ]
    }
   ],
   "source": [
    "e1.salary"
   ]
  },
  {
   "cell_type": "markdown",
   "id": "d6d7e415",
   "metadata": {},
   "source": [
    "# INHERITANCE"
   ]
  },
  {
   "cell_type": "code",
   "execution_count": 50,
   "id": "b779ac1f",
   "metadata": {},
   "outputs": [],
   "source": [
    "class Employee2(Employees):\n",
    "    pass"
   ]
  },
  {
   "cell_type": "code",
   "execution_count": 52,
   "id": "acadbe82",
   "metadata": {},
   "outputs": [],
   "source": [
    "e3 = Employee2('zade', 'meadows', 'xAddy')"
   ]
  },
  {
   "cell_type": "code",
   "execution_count": 53,
   "id": "f939e808",
   "metadata": {},
   "outputs": [
    {
     "ename": "AttributeError",
     "evalue": "'Employee2' object has no attribute 'expectations'",
     "output_type": "error",
     "traceback": [
      "\u001b[1;31m---------------------------------------------------------------------------\u001b[0m",
      "\u001b[1;31mAttributeError\u001b[0m                            Traceback (most recent call last)",
      "Cell \u001b[1;32mIn[53], line 1\u001b[0m\n\u001b[1;32m----> 1\u001b[0m e3\u001b[38;5;241m.\u001b[39mexpectations\n",
      "\u001b[1;31mAttributeError\u001b[0m: 'Employee2' object has no attribute 'expectations'"
     ]
    }
   ],
   "source": [
    "e3.expectations"
   ]
  },
  {
   "cell_type": "code",
   "execution_count": 54,
   "id": "427b981b",
   "metadata": {},
   "outputs": [
    {
     "data": {
      "text/plain": [
       "'zade'"
      ]
     },
     "execution_count": 54,
     "metadata": {},
     "output_type": "execute_result"
    }
   ],
   "source": [
    "e3.first"
   ]
  },
  {
   "cell_type": "code",
   "execution_count": null,
   "id": "ab82d1e9",
   "metadata": {},
   "outputs": [],
   "source": []
  }
 ],
 "metadata": {
  "kernelspec": {
   "display_name": "Python 3 (ipykernel)",
   "language": "python",
   "name": "python3"
  },
  "language_info": {
   "codemirror_mode": {
    "name": "ipython",
    "version": 3
   },
   "file_extension": ".py",
   "mimetype": "text/x-python",
   "name": "python",
   "nbconvert_exporter": "python",
   "pygments_lexer": "ipython3",
   "version": "3.11.5"
  }
 },
 "nbformat": 4,
 "nbformat_minor": 5
}
